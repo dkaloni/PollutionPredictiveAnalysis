{
  "nbformat": 4,
  "nbformat_minor": 0,
  "metadata": {
    "kernelspec": {
      "display_name": "Python 3",
      "language": "python",
      "name": "python3"
    },
    "language_info": {
      "codemirror_mode": {
        "name": "ipython",
        "version": 3
      },
      "file_extension": ".py",
      "mimetype": "text/x-python",
      "name": "python",
      "nbconvert_exporter": "python",
      "pygments_lexer": "ipython3",
      "version": "3.7.4"
    },
    "colab": {
      "name": "LSTManalysis.ipynb",
      "provenance": [],
      "toc_visible": true
    }
  },
  "cells": [
    {
      "cell_type": "code",
      "metadata": {
        "id": "tTXxIHMKI3Aq"
      },
      "source": [
        "import numpy as np\n",
        "import pandas as pd\n",
        "from pandas.util.testing import assert_frame_equal"
      ],
      "execution_count": null,
      "outputs": []
    },
    {
      "cell_type": "code",
      "metadata": {
        "id": "YhdbzxzEI3A4"
      },
      "source": [
        "#from pandas_profiling import ProfileReport\n",
        "%matplotlib inline"
      ],
      "execution_count": null,
      "outputs": []
    },
    {
      "cell_type": "code",
      "metadata": {
        "id": "n7ssRowAI3BC"
      },
      "source": [
        "df = pd.read_csv(\"/NO2LSTMDATASET.csv\")"
      ],
      "execution_count": null,
      "outputs": []
    },
    {
      "cell_type": "code",
      "metadata": {
        "id": "YMtAk2kLI3BK",
        "outputId": "94102113-e3a0-439b-c881-779da8247987",
        "colab": {
          "base_uri": "https://localhost:8080/",
          "height": 204
        }
      },
      "source": [
        "df.head()"
      ],
      "execution_count": null,
      "outputs": [
        {
          "output_type": "execute_result",
          "data": {
            "text/html": [
              "<div>\n",
              "<style scoped>\n",
              "    .dataframe tbody tr th:only-of-type {\n",
              "        vertical-align: middle;\n",
              "    }\n",
              "\n",
              "    .dataframe tbody tr th {\n",
              "        vertical-align: top;\n",
              "    }\n",
              "\n",
              "    .dataframe thead th {\n",
              "        text-align: right;\n",
              "    }\n",
              "</style>\n",
              "<table border=\"1\" class=\"dataframe\">\n",
              "  <thead>\n",
              "    <tr style=\"text-align: right;\">\n",
              "      <th></th>\n",
              "      <th>date</th>\n",
              "      <th>value</th>\n",
              "    </tr>\n",
              "  </thead>\n",
              "  <tbody>\n",
              "    <tr>\n",
              "      <th>0</th>\n",
              "      <td>20180430</td>\n",
              "      <td>0.000108</td>\n",
              "    </tr>\n",
              "    <tr>\n",
              "      <th>1</th>\n",
              "      <td>20180501</td>\n",
              "      <td>0.000111</td>\n",
              "    </tr>\n",
              "    <tr>\n",
              "      <th>2</th>\n",
              "      <td>20180502</td>\n",
              "      <td>0.000117</td>\n",
              "    </tr>\n",
              "    <tr>\n",
              "      <th>3</th>\n",
              "      <td>20180503</td>\n",
              "      <td>0.000088</td>\n",
              "    </tr>\n",
              "    <tr>\n",
              "      <th>4</th>\n",
              "      <td>20180505</td>\n",
              "      <td>0.000079</td>\n",
              "    </tr>\n",
              "  </tbody>\n",
              "</table>\n",
              "</div>"
            ],
            "text/plain": [
              "       date     value\n",
              "0  20180430  0.000108\n",
              "1  20180501  0.000111\n",
              "2  20180502  0.000117\n",
              "3  20180503  0.000088\n",
              "4  20180505  0.000079"
            ]
          },
          "metadata": {
            "tags": []
          },
          "execution_count": 45
        }
      ]
    },
    {
      "cell_type": "code",
      "metadata": {
        "id": "Mq0yYM6WI3BZ"
      },
      "source": [
        "dfnew = df.reset_index()['value']"
      ],
      "execution_count": null,
      "outputs": []
    },
    {
      "cell_type": "code",
      "metadata": {
        "id": "FixQzcVQI3Bh",
        "outputId": "ecefe36e-8c48-4548-d891-4b4c46864600",
        "colab": {
          "base_uri": "https://localhost:8080/",
          "height": 34
        }
      },
      "source": [
        "dfnew.shape"
      ],
      "execution_count": null,
      "outputs": [
        {
          "output_type": "execute_result",
          "data": {
            "text/plain": [
              "(711,)"
            ]
          },
          "metadata": {
            "tags": []
          },
          "execution_count": 47
        }
      ]
    },
    {
      "cell_type": "code",
      "metadata": {
        "id": "fzb5IRejI3Bs",
        "outputId": "d8f9b717-a5dc-4328-ec5a-2bc9c1e6593b",
        "colab": {
          "base_uri": "https://localhost:8080/",
          "height": 221
        }
      },
      "source": [
        "dfnew"
      ],
      "execution_count": null,
      "outputs": [
        {
          "output_type": "execute_result",
          "data": {
            "text/plain": [
              "0      0.000108\n",
              "1      0.000111\n",
              "2      0.000117\n",
              "3      0.000088\n",
              "4      0.000079\n",
              "         ...   \n",
              "706    0.000081\n",
              "707    0.000061\n",
              "708    0.000060\n",
              "709    0.000085\n",
              "710    0.000180\n",
              "Name: value, Length: 711, dtype: float64"
            ]
          },
          "metadata": {
            "tags": []
          },
          "execution_count": 48
        }
      ]
    },
    {
      "cell_type": "code",
      "metadata": {
        "id": "1d5Hk0hmI3B3",
        "outputId": "b95f1bfa-9ba7-43f7-fe6e-63cc8cafa6c4",
        "colab": {
          "base_uri": "https://localhost:8080/",
          "height": 282
        }
      },
      "source": [
        "import matplotlib.pyplot as plt\n",
        "plt.plot(dfnew)"
      ],
      "execution_count": null,
      "outputs": [
        {
          "output_type": "execute_result",
          "data": {
            "text/plain": [
              "[<matplotlib.lines.Line2D at 0x7f7e4b9c0d30>]"
            ]
          },
          "metadata": {
            "tags": []
          },
          "execution_count": 49
        },
        {
          "output_type": "display_data",
          "data": {
            "image/png": "[encoded data removed]",
            "text/plain": [
              "<Figure size 432x288 with 1 Axes>"
            ]
          },
          "metadata": {
            "tags": [],
            "needs_background": "light"
          }
        }
      ]
    },
    {
      "cell_type": "code",
      "metadata": {
        "id": "TWPrMV0tI3B_"
      },
      "source": [
        "import numpy as np\n"
      ],
      "execution_count": null,
      "outputs": []
    },
    {
      "cell_type": "markdown",
      "metadata": {
        "id": "NjLoLLpII3CK"
      },
      "source": [
        "### Scaling Values of NO2 Conc. in between 0 and 1"
      ]
    },
    {
      "cell_type": "code",
      "metadata": {
        "id": "p6VakmVAI3CL"
      },
      "source": [
        "###Since LSTM is sensitive to range of data, we have redefined the range from 0 to 1,\n",
        "### In the end, we will revert back to our original state\n",
        "##using MINMAX SCALE"
      ],
      "execution_count": null,
      "outputs": []
    },
    {
      "cell_type": "code",
      "metadata": {
        "id": "_WjJ1LLuI3CQ",
        "outputId": "5c47977c-a3ee-4198-c2f1-d2f8b3c4c453",
        "colab": {
          "base_uri": "https://localhost:8080/",
          "height": 221
        }
      },
      "source": [
        "print(dfnew)"
      ],
      "execution_count": null,
      "outputs": [
        {
          "output_type": "stream",
          "text": [
            "0      0.000108\n",
            "1      0.000111\n",
            "2      0.000117\n",
            "3      0.000088\n",
            "4      0.000079\n",
            "         ...   \n",
            "706    0.000081\n",
            "707    0.000061\n",
            "708    0.000060\n",
            "709    0.000085\n",
            "710    0.000180\n",
            "Name: value, Length: 711, dtype: float64\n"
          ],
          "name": "stdout"
        }
      ]
    },
    {
      "cell_type": "code",
      "metadata": {
        "id": "AebdCj_UI3Da"
      },
      "source": [
        "from sklearn.preprocessing import MinMaxScaler\n",
        "scaler=MinMaxScaler(feature_range=(0,1))\n",
        "dfnew = scaler.fit_transform(np.array(dfnew).reshape(-1,1))"
      ],
      "execution_count": null,
      "outputs": []
    },
    {
      "cell_type": "code",
      "metadata": {
        "id": "OXfvFnpqI3Di",
        "outputId": "c49d53be-78cd-4fbb-8b30-661663477bff",
        "colab": {
          "base_uri": "https://localhost:8080/",
          "height": 1000
        }
      },
      "source": [
        "print(dfnew)"
      ],
      "execution_count": null,
      "outputs": [
        {
          "output_type": "stream",
          "text": [
            "[[0.196874  ]\n",
            " [0.2024749 ]\n",
            " [0.21434772]\n",
            " [0.15817017]\n",
            " [0.13970579]\n",
            " [0.19284843]\n",
            " [0.39066441]\n",
            " [0.39681351]\n",
            " [0.2201132 ]\n",
            " [0.26450346]\n",
            " [0.13898884]\n",
            " [0.23446579]\n",
            " [0.56197092]\n",
            " [0.35011773]\n",
            " [0.69754496]\n",
            " [0.30409779]\n",
            " [0.28313109]\n",
            " [0.2264065 ]\n",
            " [0.07214059]\n",
            " [0.11351859]\n",
            " [0.14021334]\n",
            " [0.11429508]\n",
            " [0.39388536]\n",
            " [0.18934339]\n",
            " [0.16790046]\n",
            " [0.48654437]\n",
            " [0.36790428]\n",
            " [0.40566411]\n",
            " [0.22233164]\n",
            " [0.1716655 ]\n",
            " [0.17131834]\n",
            " [0.34506321]\n",
            " [0.18929313]\n",
            " [0.35863143]\n",
            " [0.13868118]\n",
            " [0.3087798 ]\n",
            " [0.12244983]\n",
            " [0.13394687]\n",
            " [0.26221953]\n",
            " [0.39603986]\n",
            " [0.25677903]\n",
            " [0.63577302]\n",
            " [0.22160982]\n",
            " [0.19151058]\n",
            " [0.24699909]\n",
            " [0.5291435 ]\n",
            " [0.3316085 ]\n",
            " [0.30257802]\n",
            " [0.45283561]\n",
            " [0.28737834]\n",
            " [0.82835882]\n",
            " [0.15507139]\n",
            " [0.34640534]\n",
            " [0.50235989]\n",
            " [0.35127997]\n",
            " [0.32797068]\n",
            " [0.12737315]\n",
            " [0.23412921]\n",
            " [0.1953046 ]\n",
            " [0.30286885]\n",
            " [0.37859057]\n",
            " [0.15806599]\n",
            " [0.29262006]\n",
            " [0.42045692]\n",
            " [0.32083996]\n",
            " [0.6508343 ]\n",
            " [0.27304207]\n",
            " [0.22124783]\n",
            " [0.22369964]\n",
            " [0.18135713]\n",
            " [0.25110966]\n",
            " [0.61791763]\n",
            " [0.16278157]\n",
            " [0.19880714]\n",
            " [0.37075511]\n",
            " [0.18706489]\n",
            " [0.25666617]\n",
            " [0.16822809]\n",
            " [0.12895465]\n",
            " [0.10741454]\n",
            " [0.22525637]\n",
            " [0.11368624]\n",
            " [0.18416206]\n",
            " [0.12474374]\n",
            " [0.21688993]\n",
            " [0.22894896]\n",
            " [0.23278249]\n",
            " [0.28911156]\n",
            " [0.18369355]\n",
            " [0.1996895 ]\n",
            " [0.17192348]\n",
            " [0.17725158]\n",
            " [0.23293372]\n",
            " [0.1263517 ]\n",
            " [0.21159066]\n",
            " [0.12241231]\n",
            " [0.16530484]\n",
            " [0.17568182]\n",
            " [0.25563397]\n",
            " [0.11176587]\n",
            " [0.13721245]\n",
            " [0.18913041]\n",
            " [0.19929689]\n",
            " [0.21435941]\n",
            " [0.18087122]\n",
            " [0.18994271]\n",
            " [0.19649168]\n",
            " [0.20803751]\n",
            " [0.16890556]\n",
            " [0.13289915]\n",
            " [0.16491508]\n",
            " [0.15528074]\n",
            " [0.19011634]\n",
            " [0.2190214 ]\n",
            " [0.17978687]\n",
            " [0.19249605]\n",
            " [0.17264724]\n",
            " [0.2176791 ]\n",
            " [0.21236017]\n",
            " [0.13478144]\n",
            " [0.11875654]\n",
            " [0.08495004]\n",
            " [0.15922175]\n",
            " [0.11238409]\n",
            " [0.11139691]\n",
            " [0.1968319 ]\n",
            " [0.22971785]\n",
            " [0.15581589]\n",
            " [0.14628453]\n",
            " [0.13257943]\n",
            " [0.17939654]\n",
            " [0.21337982]\n",
            " [0.12449213]\n",
            " [0.15858042]\n",
            " [0.12335709]\n",
            " [0.1070474 ]\n",
            " [0.08679801]\n",
            " [0.10844717]\n",
            " [0.21107019]\n",
            " [0.19122546]\n",
            " [0.12195181]\n",
            " [0.11140188]\n",
            " [0.12777669]\n",
            " [0.14651796]\n",
            " [0.2266272 ]\n",
            " [0.17627198]\n",
            " [0.15349605]\n",
            " [0.13546063]\n",
            " [0.1766747 ]\n",
            " [0.23448472]\n",
            " [0.12803661]\n",
            " [0.02610101]\n",
            " [0.16449881]\n",
            " [0.15245977]\n",
            " [0.16869164]\n",
            " [0.22738634]\n",
            " [0.4628575 ]\n",
            " [0.19250352]\n",
            " [0.08221373]\n",
            " [0.14779678]\n",
            " [0.13946266]\n",
            " [0.37005598]\n",
            " [0.39061627]\n",
            " [0.1816285 ]\n",
            " [0.08347902]\n",
            " [0.06513806]\n",
            " [0.08135514]\n",
            " [0.05496841]\n",
            " [0.06628328]\n",
            " [0.08097307]\n",
            " [0.11165936]\n",
            " [0.09950144]\n",
            " [0.23128025]\n",
            " [0.34027235]\n",
            " [0.20330022]\n",
            " [0.13308994]\n",
            " [0.12745631]\n",
            " [0.18669529]\n",
            " [0.15638945]\n",
            " [0.04287021]\n",
            " [0.11004296]\n",
            " [0.15693954]\n",
            " [0.08925846]\n",
            " [0.14475421]\n",
            " [0.11125535]\n",
            " [0.11028504]\n",
            " [0.28973804]\n",
            " [0.2773391 ]\n",
            " [0.18127837]\n",
            " [0.13825779]\n",
            " [0.05551189]\n",
            " [0.0815297 ]\n",
            " [0.07196486]\n",
            " [0.08639154]\n",
            " [0.11680679]\n",
            " [0.1310727 ]\n",
            " [0.12187484]\n",
            " [0.15746116]\n",
            " [0.12513407]\n",
            " [0.07168785]\n",
            " [0.11807604]\n",
            " [0.084215  ]\n",
            " [0.13965987]\n",
            " [0.26120311]\n",
            " [0.10788773]\n",
            " [0.118829  ]\n",
            " [0.29587183]\n",
            " [0.09334238]\n",
            " [0.10349173]\n",
            " [0.21939464]\n",
            " [0.12991494]\n",
            " [0.07778636]\n",
            " [0.08063146]\n",
            " [0.10178173]\n",
            " [0.11673808]\n",
            " [0.0761642 ]\n",
            " [0.10568983]\n",
            " [0.11643372]\n",
            " [0.11930388]\n",
            " [0.20443636]\n",
            " [0.13261645]\n",
            " [0.06894225]\n",
            " [0.06593512]\n",
            " [0.21360412]\n",
            " [0.0551473 ]\n",
            " [0.11825574]\n",
            " [0.12856431]\n",
            " [0.16003817]\n",
            " [0.22474016]\n",
            " [0.17484881]\n",
            " [0.08833268]\n",
            " [0.12944153]\n",
            " [0.1078698 ]\n",
            " [0.15585   ]\n",
            " [0.30012878]\n",
            " [0.27129613]\n",
            " [0.16526868]\n",
            " [0.14492472]\n",
            " [0.23336443]\n",
            " [0.20533871]\n",
            " [0.24384054]\n",
            " [0.18994348]\n",
            " [0.30608431]\n",
            " [0.15652226]\n",
            " [0.11503783]\n",
            " [0.18686799]\n",
            " [0.30478969]\n",
            " [0.19784434]\n",
            " [0.33850245]\n",
            " [0.41375777]\n",
            " [0.15326841]\n",
            " [0.36842555]\n",
            " [0.24920582]\n",
            " [0.13426959]\n",
            " [0.42602935]\n",
            " [0.17377028]\n",
            " [0.16013949]\n",
            " [0.1924139 ]\n",
            " [0.67752278]\n",
            " [1.        ]\n",
            " [0.31114808]\n",
            " [0.15306318]\n",
            " [0.22790784]\n",
            " [0.88310408]\n",
            " [0.56329197]\n",
            " [0.24753098]\n",
            " [0.29762887]\n",
            " [0.44242953]\n",
            " [0.14674347]\n",
            " [0.11290966]\n",
            " [0.45356888]\n",
            " [0.44946425]\n",
            " [0.38629465]\n",
            " [0.25331849]\n",
            " [0.13685913]\n",
            " [0.09239788]\n",
            " [0.16402465]\n",
            " [0.22659231]\n",
            " [0.36701162]\n",
            " [0.30233455]\n",
            " [0.51548802]\n",
            " [0.18097824]\n",
            " [0.16320072]\n",
            " [0.27741067]\n",
            " [0.51513308]\n",
            " [0.16372106]\n",
            " [0.11843982]\n",
            " [0.21705913]\n",
            " [0.13621309]\n",
            " [0.12150364]\n",
            " [0.07668063]\n",
            " [0.40069536]\n",
            " [0.71438077]\n",
            " [0.51878081]\n",
            " [0.10724826]\n",
            " [0.42080633]\n",
            " [0.09513271]\n",
            " [0.07862843]\n",
            " [0.18070611]\n",
            " [0.4254523 ]\n",
            " [0.20125917]\n",
            " [0.03546535]\n",
            " [0.18049635]\n",
            " [0.09729728]\n",
            " [0.10114125]\n",
            " [0.12112391]\n",
            " [0.32289862]\n",
            " [0.09347901]\n",
            " [0.16317864]\n",
            " [0.09856003]\n",
            " [0.17349383]\n",
            " [0.29448703]\n",
            " [0.16783956]\n",
            " [0.13414751]\n",
            " [0.08588001]\n",
            " [0.12052812]\n",
            " [0.17694326]\n",
            " [0.21063801]\n",
            " [0.08908049]\n",
            " [0.1430915 ]\n",
            " [0.12909027]\n",
            " [0.11944211]\n",
            " [0.22103195]\n",
            " [0.02986966]\n",
            " [0.12619086]\n",
            " [0.12449262]\n",
            " [0.12209197]\n",
            " [0.169953  ]\n",
            " [0.10246108]\n",
            " [0.142773  ]\n",
            " [0.1052166 ]\n",
            " [0.08423411]\n",
            " [0.07851649]\n",
            " [0.06851173]\n",
            " [0.09127473]\n",
            " [0.11018353]\n",
            " [0.07650653]\n",
            " [0.19000072]\n",
            " [0.20273175]\n",
            " [0.10910261]\n",
            " [0.24606507]\n",
            " [0.100006  ]\n",
            " [0.12978216]\n",
            " [0.23171917]\n",
            " [0.13543642]\n",
            " [0.17759536]\n",
            " [0.22983798]\n",
            " [0.19132323]\n",
            " [0.21512638]\n",
            " [0.23427096]\n",
            " [0.23756436]\n",
            " [0.1813481 ]\n",
            " [0.16439724]\n",
            " [0.16178673]\n",
            " [0.16142496]\n",
            " [0.09885086]\n",
            " [0.08838314]\n",
            " [0.07803038]\n",
            " [0.11080174]\n",
            " [0.09250234]\n",
            " [0.12376431]\n",
            " [0.20095681]\n",
            " [0.11628383]\n",
            " [0.14139905]\n",
            " [0.11235304]\n",
            " [0.19294142]\n",
            " [0.17930116]\n",
            " [0.15308476]\n",
            " [0.16119594]\n",
            " [0.11124681]\n",
            " [0.11306866]\n",
            " [0.10229052]\n",
            " [0.12411099]\n",
            " [0.18300439]\n",
            " [0.16378655]\n",
            " [0.20752051]\n",
            " [0.20045295]\n",
            " [0.26848766]\n",
            " [0.16723244]\n",
            " [0.12745117]\n",
            " [0.14153938]\n",
            " [0.09948455]\n",
            " [0.14173231]\n",
            " [0.15481376]\n",
            " [0.12165625]\n",
            " [0.14880953]\n",
            " [0.11577025]\n",
            " [0.21355107]\n",
            " [0.19738266]\n",
            " [0.08886738]\n",
            " [0.09262228]\n",
            " [0.11105656]\n",
            " [0.13857822]\n",
            " [0.19176127]\n",
            " [0.1522685 ]\n",
            " [0.13209445]\n",
            " [0.02355188]\n",
            " [0.16906074]\n",
            " [0.0462108 ]\n",
            " [0.13006709]\n",
            " [0.09606368]\n",
            " [0.12025573]\n",
            " [0.11171723]\n",
            " [0.12698302]\n",
            " [0.15641346]\n",
            " [0.16170384]\n",
            " [0.17620498]\n",
            " [0.16086817]\n",
            " [0.17372723]\n",
            " [0.15457775]\n",
            " [0.16458844]\n",
            " [0.16152951]\n",
            " [0.22140792]\n",
            " [0.18442648]\n",
            " [0.17402641]\n",
            " [0.18637408]\n",
            " [0.17308015]\n",
            " [0.08616208]\n",
            " [0.13958722]\n",
            " [0.14614094]\n",
            " [0.1618933 ]\n",
            " [0.13570597]\n",
            " [0.03171798]\n",
            " [0.        ]\n",
            " [0.05242862]\n",
            " [0.26089608]\n",
            " [0.23347639]\n",
            " [0.25577323]\n",
            " [0.16687185]\n",
            " [0.15030462]\n",
            " [0.13838786]\n",
            " [0.19402815]\n",
            " [0.19632369]\n",
            " [0.09074719]\n",
            " [0.08293581]\n",
            " [0.10546531]\n",
            " [0.10379507]\n",
            " [0.10458983]\n",
            " [0.17219311]\n",
            " [0.20289638]\n",
            " [0.16380916]\n",
            " [0.10724206]\n",
            " [0.2017281 ]\n",
            " [0.23973682]\n",
            " [0.16062547]\n",
            " [0.24220779]\n",
            " [0.08382039]\n",
            " [0.08189315]\n",
            " [0.10275964]\n",
            " [0.05711074]\n",
            " [0.05108123]\n",
            " [0.08908793]\n",
            " [0.224849  ]\n",
            " [0.22771022]\n",
            " [0.11729201]\n",
            " [0.19719445]\n",
            " [0.12431608]\n",
            " [0.3117051 ]\n",
            " [0.11724348]\n",
            " [0.13438009]\n",
            " [0.18930179]\n",
            " [0.22627781]\n",
            " [0.24379794]\n",
            " [0.24440984]\n",
            " [0.18422467]\n",
            " [0.07254034]\n",
            " [0.04018117]\n",
            " [0.07973431]\n",
            " [0.04449632]\n",
            " [0.08688973]\n",
            " [0.10467788]\n",
            " [0.26000263]\n",
            " [0.18811317]\n",
            " [0.16703332]\n",
            " [0.12718532]\n",
            " [0.1615652 ]\n",
            " [0.25784827]\n",
            " [0.12922713]\n",
            " [0.14649559]\n",
            " [0.04247907]\n",
            " [0.02833845]\n",
            " [0.05874753]\n",
            " [0.05202132]\n",
            " [0.07837632]\n",
            " [0.17688008]\n",
            " [0.06451746]\n",
            " [0.08572259]\n",
            " [0.04868338]\n",
            " [0.07586169]\n",
            " [0.0587943 ]\n",
            " [0.10107676]\n",
            " [0.08066435]\n",
            " [0.06396344]\n",
            " [0.05656792]\n",
            " [0.1519    ]\n",
            " [0.1074768 ]\n",
            " [0.29887491]\n",
            " [0.1094048 ]\n",
            " [0.08335644]\n",
            " [0.10939329]\n",
            " [0.1053679 ]\n",
            " [0.13477227]\n",
            " [0.13340212]\n",
            " [0.13382522]\n",
            " [0.14089156]\n",
            " [0.1581078 ]\n",
            " [0.13917453]\n",
            " [0.26220008]\n",
            " [0.21639532]\n",
            " [0.14219351]\n",
            " [0.10870828]\n",
            " [0.1088111 ]\n",
            " [0.20439865]\n",
            " [0.11511306]\n",
            " [0.15994501]\n",
            " [0.13755998]\n",
            " [0.14087976]\n",
            " [0.24550457]\n",
            " [0.12941237]\n",
            " [0.11748975]\n",
            " [0.14560359]\n",
            " [0.12586058]\n",
            " [0.13523205]\n",
            " [0.18903264]\n",
            " [0.11940187]\n",
            " [0.10681884]\n",
            " [0.23430512]\n",
            " [0.14485887]\n",
            " [0.05779172]\n",
            " [0.14403081]\n",
            " [0.16002306]\n",
            " [0.13781345]\n",
            " [0.0841588 ]\n",
            " [0.10352107]\n",
            " [0.10953183]\n",
            " [0.18124321]\n",
            " [0.24034992]\n",
            " [0.18183835]\n",
            " [0.19284047]\n",
            " [0.11636426]\n",
            " [0.14938672]\n",
            " [0.10640753]\n",
            " [0.12889345]\n",
            " [0.16233633]\n",
            " [0.06745811]\n",
            " [0.10802976]\n",
            " [0.21799603]\n",
            " [0.38742943]\n",
            " [0.20170337]\n",
            " [0.15252678]\n",
            " [0.11914973]\n",
            " [0.16223607]\n",
            " [0.24574138]\n",
            " [0.22212179]\n",
            " [0.17386291]\n",
            " [0.13424862]\n",
            " [0.18751706]\n",
            " [0.1473949 ]\n",
            " [0.13541271]\n",
            " [0.13390479]\n",
            " [0.13101521]\n",
            " [0.29641947]\n",
            " [0.2308599 ]\n",
            " [0.22539326]\n",
            " [0.1070395 ]\n",
            " [0.13178456]\n",
            " [0.13706654]\n",
            " [0.084523  ]\n",
            " [0.11161261]\n",
            " [0.19404573]\n",
            " [0.25422352]\n",
            " [0.11737666]\n",
            " [0.13982697]\n",
            " [0.09300706]\n",
            " [0.10904532]\n",
            " [0.2228368 ]\n",
            " [0.25100761]\n",
            " [0.24803794]\n",
            " [0.12733977]\n",
            " [0.11490039]\n",
            " [0.12560069]\n",
            " [0.11673833]\n",
            " [0.41956333]\n",
            " [0.25575205]\n",
            " [0.16162397]\n",
            " [0.13389816]\n",
            " [0.09401238]\n",
            " [0.15774342]\n",
            " [0.13450425]\n",
            " [0.13258917]\n",
            " [0.25047971]\n",
            " [0.78884554]\n",
            " [0.41440457]\n",
            " [0.18585042]\n",
            " [0.06619865]\n",
            " [0.25815386]\n",
            " [0.37667275]\n",
            " [0.33312761]\n",
            " [0.11354435]\n",
            " [0.1714193 ]\n",
            " [0.11476047]\n",
            " [0.13082412]\n",
            " [0.13952446]\n",
            " [0.16365231]\n",
            " [0.50983082]\n",
            " [0.71747848]\n",
            " [0.53025509]\n",
            " [0.46857156]\n",
            " [0.43925846]\n",
            " [0.40533693]\n",
            " [0.30536998]\n",
            " [0.23622807]\n",
            " [0.1790524 ]\n",
            " [0.55563648]\n",
            " [0.2348412 ]\n",
            " [0.14257776]\n",
            " [0.1969574 ]\n",
            " [0.09383514]\n",
            " [0.04131284]\n",
            " [0.05978436]\n",
            " [0.27438294]\n",
            " [0.40514285]\n",
            " [0.32153442]\n",
            " [0.08428598]\n",
            " [0.20992054]\n",
            " [0.62195133]\n",
            " [0.11660584]\n",
            " [0.15028895]\n",
            " [0.17861727]\n",
            " [0.36141993]\n",
            " [0.31978298]\n",
            " [0.60308639]\n",
            " [0.44280059]\n",
            " [0.38073317]\n",
            " [0.53163094]\n",
            " [0.49116704]\n",
            " [0.44898444]\n",
            " [0.30664158]\n",
            " [0.15424121]\n",
            " [0.53017223]\n",
            " [0.34822994]\n",
            " [0.22134042]\n",
            " [0.15075192]\n",
            " [0.23993004]\n",
            " [0.19042816]\n",
            " [0.22621514]\n",
            " [0.16725323]\n",
            " [0.14634288]\n",
            " [0.26939615]\n",
            " [0.23227975]\n",
            " [0.06636309]\n",
            " [0.22618028]\n",
            " [0.14590918]\n",
            " [0.40322486]\n",
            " [0.71184518]\n",
            " [0.13379013]\n",
            " [0.12295846]\n",
            " [0.14075646]\n",
            " [0.30996388]\n",
            " [0.17051448]\n",
            " [0.4766048 ]\n",
            " [0.42500673]\n",
            " [0.27831604]\n",
            " [0.14449   ]\n",
            " [0.15696955]\n",
            " [0.19474337]\n",
            " [0.23426482]\n",
            " [0.14893131]\n",
            " [0.21095008]\n",
            " [0.3621311 ]\n",
            " [0.19875943]\n",
            " [0.1795074 ]\n",
            " [0.24976606]\n",
            " [0.12920161]\n",
            " [0.2112896 ]\n",
            " [0.20029122]\n",
            " [0.29267493]\n",
            " [0.11973274]\n",
            " [0.10911076]\n",
            " [0.12181606]\n",
            " [0.13726337]\n",
            " [0.15913546]\n",
            " [0.15096992]\n",
            " [0.12745528]\n",
            " [0.16371463]\n",
            " [0.14867654]\n",
            " [0.13472095]\n",
            " [0.17902036]\n",
            " [0.17851048]\n",
            " [0.15284792]\n",
            " [0.13415335]\n",
            " [0.17222767]\n",
            " [0.31839065]\n",
            " [0.18139076]\n",
            " [0.19703302]\n",
            " [0.12480196]\n",
            " [0.1710389 ]\n",
            " [0.13339394]\n",
            " [0.16536245]\n",
            " [0.08439281]\n",
            " [0.08121672]\n",
            " [0.10014033]\n",
            " [0.1325755 ]\n",
            " [0.33970929]\n",
            " [0.20336691]\n",
            " [0.16972147]\n",
            " [0.14444134]\n",
            " [0.10413831]\n",
            " [0.10281157]\n",
            " [0.15111159]\n",
            " [0.33855807]]\n"
          ],
          "name": "stdout"
        }
      ]
    },
    {
      "cell_type": "code",
      "metadata": {
        "id": "A82pbqHiI3Dv",
        "outputId": "06a499ab-f256-46b5-ccdf-7a3cb6273e70",
        "colab": {
          "base_uri": "https://localhost:8080/",
          "height": 282
        }
      },
      "source": [
        "plt.plot(dfnew) "
      ],
      "execution_count": null,
      "outputs": [
        {
          "output_type": "execute_result",
          "data": {
            "text/plain": [
              "[<matplotlib.lines.Line2D at 0x7f7e4b8edcc0>]"
            ]
          },
          "metadata": {
            "tags": []
          },
          "execution_count": 55
        },
        {
          "output_type": "display_data",
          "data": {
            "image/png": "[encoded data removed]",
            "text/plain": [
              "<Figure size 432x288 with 1 Axes>"
            ]
          },
          "metadata": {
            "tags": [],
            "needs_background": "light"
          }
        }
      ]
    },
    {
      "cell_type": "markdown",
      "metadata": {
        "id": "8yFeuWwFI3D6"
      },
      "source": [
        "### Train-Test Split"
      ]
    },
    {
      "cell_type": "code",
      "metadata": {
        "id": "0my4o1h7I3D9"
      },
      "source": [
        "#80% of total for training dataset\n",
        "training_size = int(len(dfnew)*0.8)\n",
        "#20% of total for test dataset\n",
        "test_size = len(dfnew)-training_size\n",
        "train_data, test_data=dfnew[0:training_size,:],dfnew[training_size:len(dfnew),:1]"
      ],
      "execution_count": null,
      "outputs": []
    },
    {
      "cell_type": "code",
      "metadata": {
        "id": "MI_eKhbGI3ED",
        "outputId": "9615f10e-5503-4a99-ae97-49bbb5040b39",
        "colab": {
          "base_uri": "https://localhost:8080/",
          "height": 34
        }
      },
      "source": [
        "training_size,test_size"
      ],
      "execution_count": null,
      "outputs": [
        {
          "output_type": "execute_result",
          "data": {
            "text/plain": [
              "(568, 143)"
            ]
          },
          "metadata": {
            "tags": []
          },
          "execution_count": 57
        }
      ]
    },
    {
      "cell_type": "markdown",
      "metadata": {
        "id": "u580ZbxwI3EI"
      },
      "source": [
        "### Data Pre-Processing"
      ]
    },
    {
      "cell_type": "code",
      "metadata": {
        "id": "CRNOcSjJI3EJ"
      },
      "source": [
        "### Using 100 data points for x_train and next data point for y_train\n",
        "### Moving 1 step forward each time, computing the same step \n",
        "import numpy\n",
        "#array to dataset matrix\n",
        "def create_dataset(dataset,  time_step=1):\n",
        "    dataX, dataY = [], []\n",
        "    for i in range(len(dataset)-time_step-1):\n",
        "        a = dataset[i:(i+time_step), 0]       ## i from 0 to (time_step-1) will act as Xtrain, where time_step,th element will be ytrain\n",
        "        dataX.append(a)\n",
        "        dataY.append(dataset[i + time_step, 0])\n",
        "    return numpy.array(dataX), numpy.array(dataY)"
      ],
      "execution_count": null,
      "outputs": []
    },
    {
      "cell_type": "code",
      "metadata": {
        "id": "anc5lbr7I3EP"
      },
      "source": [
        "time_step = 100\n",
        "X_train, y_train = create_dataset(train_data, time_step)\n",
        "X_test, ytest = create_dataset(test_data, time_step)"
      ],
      "execution_count": null,
      "outputs": []
    },
    {
      "cell_type": "code",
      "metadata": {
        "id": "krXwZEu5I3EU",
        "outputId": "fae8ae62-883b-452d-b754-344bc777faf1",
        "colab": {
          "base_uri": "https://localhost:8080/",
          "height": 68
        }
      },
      "source": [
        "print(X_train.shape), print(y_train.shape)"
      ],
      "execution_count": null,
      "outputs": [
        {
          "output_type": "stream",
          "text": [
            "(467, 100)\n",
            "(467,)\n"
          ],
          "name": "stdout"
        },
        {
          "output_type": "execute_result",
          "data": {
            "text/plain": [
              "(None, None)"
            ]
          },
          "metadata": {
            "tags": []
          },
          "execution_count": 60
        }
      ]
    },
    {
      "cell_type": "code",
      "metadata": {
        "id": "YYHpGkA9I3Ea",
        "outputId": "69c354b5-f60b-45d3-e7d9-cee23cf51e65",
        "colab": {
          "base_uri": "https://localhost:8080/",
          "height": 68
        }
      },
      "source": [
        "print(X_test.shape), print(ytest.shape)"
      ],
      "execution_count": null,
      "outputs": [
        {
          "output_type": "stream",
          "text": [
            "(42, 100)\n",
            "(42,)\n"
          ],
          "name": "stdout"
        },
        {
          "output_type": "execute_result",
          "data": {
            "text/plain": [
              "(None, None)"
            ]
          },
          "metadata": {
            "tags": []
          },
          "execution_count": 61
        }
      ]
    },
    {
      "cell_type": "code",
      "metadata": {
        "id": "P6JRJByQI3Eg",
        "outputId": "e6368d0b-bd01-4605-d068-1b53bd490bfc",
        "colab": {
          "base_uri": "https://localhost:8080/",
          "height": 136
        }
      },
      "source": [
        "print(X_train)"
      ],
      "execution_count": null,
      "outputs": [
        {
          "output_type": "stream",
          "text": [
            "[[0.196874   0.2024749  0.21434772 ... 0.17568182 0.25563397 0.11176587]\n",
            " [0.2024749  0.21434772 0.15817017 ... 0.25563397 0.11176587 0.13721245]\n",
            " [0.21434772 0.15817017 0.13970579 ... 0.11176587 0.13721245 0.18913041]\n",
            " ...\n",
            " [0.18422467 0.07254034 0.04018117 ... 0.29641947 0.2308599  0.22539326]\n",
            " [0.07254034 0.04018117 0.07973431 ... 0.2308599  0.22539326 0.1070395 ]\n",
            " [0.04018117 0.07973431 0.04449632 ... 0.22539326 0.1070395  0.13178456]]\n"
          ],
          "name": "stdout"
        }
      ]
    },
    {
      "cell_type": "code",
      "metadata": {
        "id": "JApdxsS9I3El"
      },
      "source": [
        "### Reshaping Input, by adding 1 more dimension\n",
        "X_train =X_train.reshape(X_train.shape[0],X_train.shape[1] , 1)\n",
        "X_test = X_test.reshape(X_test.shape[0],X_test.shape[1] , 1)"
      ],
      "execution_count": null,
      "outputs": []
    },
    {
      "cell_type": "code",
      "metadata": {
        "id": "jRhSTx_nI3Et"
      },
      "source": [
        "### Stacked LSTM model\n",
        "from tensorflow.keras.models import Sequential\n",
        "from tensorflow.keras.layers import Dense\n",
        "from tensorflow.keras.layers import LSTM"
      ],
      "execution_count": null,
      "outputs": []
    },
    {
      "cell_type": "code",
      "metadata": {
        "id": "UldPD9COI3E2"
      },
      "source": [
        "model=Sequential()\n",
        "model.add(LSTM(50,return_sequences=True,input_shape=(100,1)))\n",
        "model.add(LSTM(50,return_sequences=True))\n",
        "model.add(LSTM(50))\n",
        "model.add(Dense(1))\n",
        "model.compile(loss='mean_squared_error',optimizer='adam')"
      ],
      "execution_count": null,
      "outputs": []
    },
    {
      "cell_type": "code",
      "metadata": {
        "id": "ftOp0uBDI3FC",
        "outputId": "48799ba6-af26-49bd-d498-8c67dece3b97",
        "colab": {
          "base_uri": "https://localhost:8080/",
          "height": 289
        }
      },
      "source": [
        "model.summary()\n"
      ],
      "execution_count": null,
      "outputs": [
        {
          "output_type": "stream",
          "text": [
            "Model: \"sequential_1\"\n",
            "_________________________________________________________________\n",
            "Layer (type)                 Output Shape              Param #   \n",
            "=================================================================\n",
            "lstm_3 (LSTM)                (None, 100, 50)           10400     \n",
            "_________________________________________________________________\n",
            "lstm_4 (LSTM)                (None, 100, 50)           20200     \n",
            "_________________________________________________________________\n",
            "lstm_5 (LSTM)                (None, 50)                20200     \n",
            "_________________________________________________________________\n",
            "dense_1 (Dense)              (None, 1)                 51        \n",
            "=================================================================\n",
            "Total params: 50,851\n",
            "Trainable params: 50,851\n",
            "Non-trainable params: 0\n",
            "_________________________________________________________________\n"
          ],
          "name": "stdout"
        }
      ]
    },
    {
      "cell_type": "code",
      "metadata": {
        "id": "3OVPl9NaI3FM",
        "outputId": "fe74acf1-28a6-4c7e-8ae6-5c5c3411ea4b",
        "colab": {
          "base_uri": "https://localhost:8080/",
          "height": 1000
        }
      },
      "source": [
        "model.fit(X_train,y_train,validation_data=(X_test,ytest),epochs=100,batch_size=64,verbose=1)\n"
      ],
      "execution_count": null,
      "outputs": [
        {
          "output_type": "stream",
          "text": [
            "Epoch 1/100\n",
            "8/8 [==============================] - 3s 336ms/step - loss: 0.0204 - val_loss: 0.0065\n",
            "Epoch 2/100\n",
            "8/8 [==============================] - 1s 184ms/step - loss: 0.0103 - val_loss: 0.0043\n",
            "Epoch 3/100\n",
            "8/8 [==============================] - 1s 186ms/step - loss: 0.0097 - val_loss: 0.0051\n",
            "Epoch 4/100\n",
            "8/8 [==============================] - 1s 186ms/step - loss: 0.0096 - val_loss: 0.0038\n",
            "Epoch 5/100\n",
            "8/8 [==============================] - 2s 192ms/step - loss: 0.0095 - val_loss: 0.0038\n",
            "Epoch 6/100\n",
            "8/8 [==============================] - 2s 190ms/step - loss: 0.0093 - val_loss: 0.0041\n",
            "Epoch 7/100\n",
            "8/8 [==============================] - 1s 187ms/step - loss: 0.0092 - val_loss: 0.0037\n",
            "Epoch 8/100\n",
            "8/8 [==============================] - 2s 190ms/step - loss: 0.0094 - val_loss: 0.0039\n",
            "Epoch 9/100\n",
            "8/8 [==============================] - 2s 194ms/step - loss: 0.0092 - val_loss: 0.0038\n",
            "Epoch 10/100\n",
            "8/8 [==============================] - 2s 195ms/step - loss: 0.0090 - val_loss: 0.0044\n",
            "Epoch 11/100\n",
            "8/8 [==============================] - 2s 191ms/step - loss: 0.0091 - val_loss: 0.0038\n",
            "Epoch 12/100\n",
            "8/8 [==============================] - 1s 185ms/step - loss: 0.0092 - val_loss: 0.0041\n",
            "Epoch 13/100\n",
            "8/8 [==============================] - 2s 190ms/step - loss: 0.0090 - val_loss: 0.0038\n",
            "Epoch 14/100\n",
            "8/8 [==============================] - 2s 195ms/step - loss: 0.0091 - val_loss: 0.0045\n",
            "Epoch 15/100\n",
            "8/8 [==============================] - 2s 188ms/step - loss: 0.0093 - val_loss: 0.0038\n",
            "Epoch 16/100\n",
            "8/8 [==============================] - 2s 194ms/step - loss: 0.0091 - val_loss: 0.0041\n",
            "Epoch 17/100\n",
            "8/8 [==============================] - 2s 192ms/step - loss: 0.0090 - val_loss: 0.0038\n",
            "Epoch 18/100\n",
            "8/8 [==============================] - 2s 192ms/step - loss: 0.0092 - val_loss: 0.0044\n",
            "Epoch 19/100\n",
            "8/8 [==============================] - 2s 194ms/step - loss: 0.0091 - val_loss: 0.0038\n",
            "Epoch 20/100\n",
            "8/8 [==============================] - 2s 190ms/step - loss: 0.0091 - val_loss: 0.0041\n",
            "Epoch 21/100\n",
            "8/8 [==============================] - 2s 190ms/step - loss: 0.0092 - val_loss: 0.0040\n",
            "Epoch 22/100\n",
            "8/8 [==============================] - 2s 192ms/step - loss: 0.0090 - val_loss: 0.0038\n",
            "Epoch 23/100\n",
            "8/8 [==============================] - 2s 194ms/step - loss: 0.0090 - val_loss: 0.0042\n",
            "Epoch 24/100\n",
            "8/8 [==============================] - 1s 185ms/step - loss: 0.0092 - val_loss: 0.0038\n",
            "Epoch 25/100\n",
            "8/8 [==============================] - 1s 186ms/step - loss: 0.0092 - val_loss: 0.0045\n",
            "Epoch 26/100\n",
            "8/8 [==============================] - 1s 187ms/step - loss: 0.0094 - val_loss: 0.0038\n",
            "Epoch 27/100\n",
            "8/8 [==============================] - 1s 186ms/step - loss: 0.0092 - val_loss: 0.0039\n",
            "Epoch 28/100\n",
            "8/8 [==============================] - 1s 187ms/step - loss: 0.0090 - val_loss: 0.0038\n",
            "Epoch 29/100\n",
            "8/8 [==============================] - 1s 187ms/step - loss: 0.0091 - val_loss: 0.0044\n",
            "Epoch 30/100\n",
            "8/8 [==============================] - 1s 187ms/step - loss: 0.0095 - val_loss: 0.0038\n",
            "Epoch 31/100\n",
            "8/8 [==============================] - 2s 188ms/step - loss: 0.0094 - val_loss: 0.0042\n",
            "Epoch 32/100\n",
            "8/8 [==============================] - 2s 190ms/step - loss: 0.0093 - val_loss: 0.0038\n",
            "Epoch 33/100\n",
            "8/8 [==============================] - 2s 191ms/step - loss: 0.0093 - val_loss: 0.0038\n",
            "Epoch 34/100\n",
            "8/8 [==============================] - 2s 196ms/step - loss: 0.0090 - val_loss: 0.0040\n",
            "Epoch 35/100\n",
            "8/8 [==============================] - 1s 185ms/step - loss: 0.0090 - val_loss: 0.0038\n",
            "Epoch 36/100\n",
            "8/8 [==============================] - 2s 194ms/step - loss: 0.0092 - val_loss: 0.0040\n",
            "Epoch 37/100\n",
            "8/8 [==============================] - 2s 190ms/step - loss: 0.0091 - val_loss: 0.0038\n",
            "Epoch 38/100\n",
            "8/8 [==============================] - 1s 187ms/step - loss: 0.0093 - val_loss: 0.0040\n",
            "Epoch 39/100\n",
            "8/8 [==============================] - 2s 193ms/step - loss: 0.0097 - val_loss: 0.0038\n",
            "Epoch 40/100\n",
            "8/8 [==============================] - 2s 194ms/step - loss: 0.0092 - val_loss: 0.0038\n",
            "Epoch 41/100\n",
            "8/8 [==============================] - 2s 190ms/step - loss: 0.0091 - val_loss: 0.0040\n",
            "Epoch 42/100\n",
            "8/8 [==============================] - 2s 191ms/step - loss: 0.0091 - val_loss: 0.0038\n",
            "Epoch 43/100\n",
            "8/8 [==============================] - 2s 190ms/step - loss: 0.0090 - val_loss: 0.0041\n",
            "Epoch 44/100\n",
            "8/8 [==============================] - 2s 190ms/step - loss: 0.0091 - val_loss: 0.0038\n",
            "Epoch 45/100\n",
            "8/8 [==============================] - 2s 189ms/step - loss: 0.0091 - val_loss: 0.0039\n",
            "Epoch 46/100\n",
            "8/8 [==============================] - 1s 185ms/step - loss: 0.0090 - val_loss: 0.0039\n",
            "Epoch 47/100\n",
            "8/8 [==============================] - 2s 194ms/step - loss: 0.0090 - val_loss: 0.0038\n",
            "Epoch 48/100\n",
            "8/8 [==============================] - 2s 192ms/step - loss: 0.0090 - val_loss: 0.0040\n",
            "Epoch 49/100\n",
            "8/8 [==============================] - 2s 188ms/step - loss: 0.0093 - val_loss: 0.0038\n",
            "Epoch 50/100\n",
            "8/8 [==============================] - 1s 187ms/step - loss: 0.0091 - val_loss: 0.0039\n",
            "Epoch 51/100\n",
            "8/8 [==============================] - 2s 190ms/step - loss: 0.0091 - val_loss: 0.0038\n",
            "Epoch 52/100\n",
            "8/8 [==============================] - 1s 187ms/step - loss: 0.0090 - val_loss: 0.0038\n",
            "Epoch 53/100\n",
            "8/8 [==============================] - 2s 189ms/step - loss: 0.0090 - val_loss: 0.0040\n",
            "Epoch 54/100\n",
            "8/8 [==============================] - 2s 194ms/step - loss: 0.0090 - val_loss: 0.0038\n",
            "Epoch 55/100\n",
            "8/8 [==============================] - 1s 187ms/step - loss: 0.0090 - val_loss: 0.0039\n",
            "Epoch 56/100\n",
            "8/8 [==============================] - 2s 191ms/step - loss: 0.0090 - val_loss: 0.0038\n",
            "Epoch 57/100\n",
            "8/8 [==============================] - 2s 194ms/step - loss: 0.0090 - val_loss: 0.0038\n",
            "Epoch 58/100\n",
            "8/8 [==============================] - 2s 192ms/step - loss: 0.0092 - val_loss: 0.0040\n",
            "Epoch 59/100\n",
            "8/8 [==============================] - 2s 189ms/step - loss: 0.0089 - val_loss: 0.0038\n",
            "Epoch 60/100\n",
            "8/8 [==============================] - 2s 189ms/step - loss: 0.0090 - val_loss: 0.0038\n",
            "Epoch 61/100\n",
            "8/8 [==============================] - 2s 189ms/step - loss: 0.0090 - val_loss: 0.0039\n",
            "Epoch 62/100\n",
            "8/8 [==============================] - 2s 190ms/step - loss: 0.0090 - val_loss: 0.0038\n",
            "Epoch 63/100\n",
            "8/8 [==============================] - 2s 188ms/step - loss: 0.0089 - val_loss: 0.0040\n",
            "Epoch 64/100\n",
            "8/8 [==============================] - 2s 198ms/step - loss: 0.0090 - val_loss: 0.0039\n",
            "Epoch 65/100\n",
            "8/8 [==============================] - 2s 194ms/step - loss: 0.0089 - val_loss: 0.0041\n",
            "Epoch 66/100\n",
            "8/8 [==============================] - 2s 198ms/step - loss: 0.0090 - val_loss: 0.0038\n",
            "Epoch 67/100\n",
            "8/8 [==============================] - 2s 195ms/step - loss: 0.0091 - val_loss: 0.0038\n",
            "Epoch 68/100\n",
            "8/8 [==============================] - 2s 201ms/step - loss: 0.0091 - val_loss: 0.0038\n",
            "Epoch 69/100\n",
            "8/8 [==============================] - 2s 191ms/step - loss: 0.0091 - val_loss: 0.0039\n",
            "Epoch 70/100\n",
            "8/8 [==============================] - 2s 194ms/step - loss: 0.0090 - val_loss: 0.0039\n",
            "Epoch 71/100\n",
            "8/8 [==============================] - 2s 197ms/step - loss: 0.0091 - val_loss: 0.0038\n",
            "Epoch 72/100\n",
            "8/8 [==============================] - 2s 197ms/step - loss: 0.0090 - val_loss: 0.0038\n",
            "Epoch 73/100\n",
            "8/8 [==============================] - 2s 195ms/step - loss: 0.0089 - val_loss: 0.0040\n",
            "Epoch 74/100\n",
            "8/8 [==============================] - 2s 197ms/step - loss: 0.0090 - val_loss: 0.0038\n",
            "Epoch 75/100\n",
            "8/8 [==============================] - 2s 196ms/step - loss: 0.0089 - val_loss: 0.0038\n",
            "Epoch 76/100\n",
            "8/8 [==============================] - 2s 196ms/step - loss: 0.0090 - val_loss: 0.0039\n",
            "Epoch 77/100\n",
            "8/8 [==============================] - 2s 194ms/step - loss: 0.0091 - val_loss: 0.0038\n",
            "Epoch 78/100\n",
            "8/8 [==============================] - 2s 201ms/step - loss: 0.0090 - val_loss: 0.0040\n",
            "Epoch 79/100\n",
            "8/8 [==============================] - 2s 192ms/step - loss: 0.0089 - val_loss: 0.0039\n",
            "Epoch 80/100\n",
            "8/8 [==============================] - 2s 190ms/step - loss: 0.0090 - val_loss: 0.0038\n",
            "Epoch 81/100\n",
            "8/8 [==============================] - 2s 199ms/step - loss: 0.0092 - val_loss: 0.0039\n",
            "Epoch 82/100\n",
            "8/8 [==============================] - 2s 198ms/step - loss: 0.0090 - val_loss: 0.0042\n",
            "Epoch 83/100\n",
            "8/8 [==============================] - 2s 202ms/step - loss: 0.0090 - val_loss: 0.0040\n",
            "Epoch 84/100\n",
            "8/8 [==============================] - 2s 200ms/step - loss: 0.0091 - val_loss: 0.0040\n",
            "Epoch 85/100\n",
            "8/8 [==============================] - 2s 202ms/step - loss: 0.0090 - val_loss: 0.0038\n",
            "Epoch 86/100\n",
            "8/8 [==============================] - 2s 191ms/step - loss: 0.0090 - val_loss: 0.0043\n",
            "Epoch 87/100\n",
            "8/8 [==============================] - 2s 195ms/step - loss: 0.0092 - val_loss: 0.0038\n",
            "Epoch 88/100\n",
            "8/8 [==============================] - 2s 194ms/step - loss: 0.0089 - val_loss: 0.0039\n",
            "Epoch 89/100\n",
            "8/8 [==============================] - 2s 194ms/step - loss: 0.0089 - val_loss: 0.0039\n",
            "Epoch 90/100\n",
            "8/8 [==============================] - 2s 195ms/step - loss: 0.0090 - val_loss: 0.0038\n",
            "Epoch 91/100\n",
            "8/8 [==============================] - 2s 201ms/step - loss: 0.0090 - val_loss: 0.0038\n",
            "Epoch 92/100\n",
            "8/8 [==============================] - 2s 198ms/step - loss: 0.0089 - val_loss: 0.0039\n",
            "Epoch 93/100\n",
            "8/8 [==============================] - 2s 196ms/step - loss: 0.0090 - val_loss: 0.0038\n",
            "Epoch 94/100\n",
            "8/8 [==============================] - 2s 192ms/step - loss: 0.0089 - val_loss: 0.0039\n",
            "Epoch 95/100\n",
            "8/8 [==============================] - 2s 190ms/step - loss: 0.0089 - val_loss: 0.0038\n",
            "Epoch 96/100\n",
            "8/8 [==============================] - 2s 190ms/step - loss: 0.0089 - val_loss: 0.0041\n",
            "Epoch 97/100\n",
            "8/8 [==============================] - 2s 192ms/step - loss: 0.0090 - val_loss: 0.0038\n",
            "Epoch 98/100\n",
            "8/8 [==============================] - 2s 223ms/step - loss: 0.0089 - val_loss: 0.0038\n",
            "Epoch 99/100\n",
            "8/8 [==============================] - 2s 223ms/step - loss: 0.0089 - val_loss: 0.0038\n",
            "Epoch 100/100\n",
            "8/8 [==============================] - 2s 216ms/step - loss: 0.0090 - val_loss: 0.0038\n"
          ],
          "name": "stdout"
        },
        {
          "output_type": "execute_result",
          "data": {
            "text/plain": [
              "<tensorflow.python.keras.callbacks.History at 0x7f7e4b634080>"
            ]
          },
          "metadata": {
            "tags": []
          },
          "execution_count": 67
        }
      ]
    },
    {
      "cell_type": "code",
      "metadata": {
        "id": "sgSVcb4QI3FT"
      },
      "source": [
        "import tensorflow as tf\n"
      ],
      "execution_count": null,
      "outputs": []
    },
    {
      "cell_type": "code",
      "metadata": {
        "id": "1GONwjJ5I3FX"
      },
      "source": [
        "train_predict=model.predict(X_train)\n",
        "test_predict=model.predict(X_test)"
      ],
      "execution_count": null,
      "outputs": []
    },
    {
      "cell_type": "code",
      "metadata": {
        "id": "rDPNQotUI3Fe"
      },
      "source": [
        "### Scaler inverse to obtain original values of NO2 Concentration\n",
        "train_predict=scaler.inverse_transform(train_predict)\n",
        "test_predict=scaler.inverse_transform(test_predict)"
      ],
      "execution_count": null,
      "outputs": []
    },
    {
      "cell_type": "code",
      "metadata": {
        "id": "bm_CgcPqI3Fj",
        "outputId": "5ea802f4-b7e8-40ec-c474-e113b8252695",
        "colab": {
          "base_uri": "https://localhost:8080/",
          "height": 34
        }
      },
      "source": [
        "### Root-Mean-Square-Error  \n",
        "import math\n",
        "from sklearn.metrics import mean_squared_error\n",
        "math.sqrt(mean_squared_error(y_train,train_predict))"
      ],
      "execution_count": null,
      "outputs": [
        {
          "output_type": "execute_result",
          "data": {
            "text/plain": [
              "0.19624410847401125"
            ]
          },
          "metadata": {
            "tags": []
          },
          "execution_count": 71
        }
      ]
    },
    {
      "cell_type": "code",
      "metadata": {
        "id": "iOjWI-3iI3Ft",
        "outputId": "3e6a22d0-46e6-42a9-f099-6ce65e41ae99",
        "colab": {
          "base_uri": "https://localhost:8080/",
          "height": 34
        }
      },
      "source": [
        "### Test Data RMSE\n",
        "math.sqrt(mean_squared_error(ytest,test_predict))"
      ],
      "execution_count": null,
      "outputs": [
        {
          "output_type": "execute_result",
          "data": {
            "text/plain": [
              "0.18105863509694023"
            ]
          },
          "metadata": {
            "tags": []
          },
          "execution_count": 72
        }
      ]
    },
    {
      "cell_type": "code",
      "metadata": {
        "id": "WE8JV7oiI3F0",
        "outputId": "198d45de-a02d-4d3b-95c5-15bc507df304",
        "colab": {
          "base_uri": "https://localhost:8080/",
          "height": 265
        }
      },
      "source": [
        "### Plotting \n",
        "# shift train predictions for plotting\n",
        "look_back=100\n",
        "trainPredictPlot = numpy.empty_like(dfnew)\n",
        "trainPredictPlot[:, :] = np.nan\n",
        "trainPredictPlot[look_back:len(train_predict)+look_back, :] = train_predict\n",
        "# shift test predictions for plotting\n",
        "testPredictPlot = numpy.empty_like(dfnew)\n",
        "testPredictPlot[:, :] = numpy.nan\n",
        "testPredictPlot[len(train_predict)+(look_back*2)+1:len(dfnew)-1, :] = test_predict\n",
        "# plot baseline and predictions\n",
        "plt.plot(scaler.inverse_transform(dfnew))\n",
        "plt.plot(trainPredictPlot)\n",
        "plt.plot(testPredictPlot)\n",
        "plt.show()"
      ],
      "execution_count": null,
      "outputs": [
        {
          "output_type": "display_data",
          "data": {
            "image/png": "[encoded data removed]",
            "text/plain": [
              "<Figure size 432x288 with 1 Axes>"
            ]
          },
          "metadata": {
            "tags": [],
            "needs_background": "light"
          }
        }
      ]
    },
    {
      "cell_type": "code",
      "metadata": {
        "id": "pvcSsjppI3F5",
        "outputId": "5ab5237a-7c07-4f08-b3d0-138b7dfada72",
        "colab": {
          "base_uri": "https://localhost:8080/",
          "height": 34
        }
      },
      "source": [
        "len(test_data)"
      ],
      "execution_count": null,
      "outputs": [
        {
          "output_type": "execute_result",
          "data": {
            "text/plain": [
              "143"
            ]
          },
          "metadata": {
            "tags": []
          },
          "execution_count": 75
        }
      ]
    },
    {
      "cell_type": "code",
      "metadata": {
        "id": "dZoV-UBPI3GE",
        "outputId": "7e1643ad-42c9-4c93-8d87-3625e5b42cf5",
        "colab": {
          "base_uri": "https://localhost:8080/",
          "height": 34
        }
      },
      "source": [
        "x_input=test_data[43:].reshape(1,-1)\n",
        "x_input.shape"
      ],
      "execution_count": null,
      "outputs": [
        {
          "output_type": "execute_result",
          "data": {
            "text/plain": [
              "(1, 100)"
            ]
          },
          "metadata": {
            "tags": []
          },
          "execution_count": 78
        }
      ]
    },
    {
      "cell_type": "code",
      "metadata": {
        "id": "9UIQXFqCI3GJ"
      },
      "source": [
        "temp_input=list(x_input)\n",
        "temp_input=temp_input[0].tolist()"
      ],
      "execution_count": null,
      "outputs": []
    },
    {
      "cell_type": "code",
      "metadata": {
        "id": "vgm-KkTSI3GQ",
        "outputId": "579cac33-2116-4be3-94fd-250e1cc7b010",
        "colab": {
          "base_uri": "https://localhost:8080/",
          "height": 1000
        }
      },
      "source": [
        "\n",
        "temp_input"
      ],
      "execution_count": null,
      "outputs": [
        {
          "output_type": "execute_result",
          "data": {
            "text/plain": [
              "[0.23622807255088482,\n",
              " 0.17905239615550028,\n",
              " 0.555636480067024,\n",
              " 0.2348411999919936,\n",
              " 0.14257775546918397,\n",
              " 0.19695740008275406,\n",
              " 0.09383513839479002,\n",
              " 0.041312841419731794,\n",
              " 0.05978435707198268,\n",
              " 0.2743829373870907,\n",
              " 0.4051428460364588,\n",
              " 0.3215344181014795,\n",
              " 0.084285978761075,\n",
              " 0.20992054496350776,\n",
              " 0.6219513296455357,\n",
              " 0.11660584117304426,\n",
              " 0.15028895448415622,\n",
              " 0.1786172654323702,\n",
              " 0.3614199317348376,\n",
              " 0.31978298250833154,\n",
              " 0.6030863859534932,\n",
              " 0.44280058832117675,\n",
              " 0.38073317264136297,\n",
              " 0.5316309384480039,\n",
              " 0.4911670372242515,\n",
              " 0.44898443729057147,\n",
              " 0.3066415799254578,\n",
              " 0.15424121179870726,\n",
              " 0.5301722316621796,\n",
              " 0.34822993801046564,\n",
              " 0.2213404168491354,\n",
              " 0.15075191850559733,\n",
              " 0.23993004178119656,\n",
              " 0.19042816271385973,\n",
              " 0.22621513518900155,\n",
              " 0.16725322906805312,\n",
              " 0.14634288428228914,\n",
              " 0.2693961467488235,\n",
              " 0.23227974566774529,\n",
              " 0.06636309372337558,\n",
              " 0.22618028072698393,\n",
              " 0.14590918208461975,\n",
              " 0.4032248591045529,\n",
              " 0.7118451773541828,\n",
              " 0.1337901252810458,\n",
              " 0.12295846127840485,\n",
              " 0.14075645666810419,\n",
              " 0.30996388264971264,\n",
              " 0.17051447572286707,\n",
              " 0.4766048005480809,\n",
              " 0.4250067285844323,\n",
              " 0.2783160395182632,\n",
              " 0.14448999599187154,\n",
              " 0.1569695518737366,\n",
              " 0.1947433733617526,\n",
              " 0.23426481511732616,\n",
              " 0.1489313080295827,\n",
              " 0.21095008362099968,\n",
              " 0.36213110254262715,\n",
              " 0.1987594325441502,\n",
              " 0.1795074034833338,\n",
              " 0.2497660645539004,\n",
              " 0.12920160692887886,\n",
              " 0.211289598852463,\n",
              " 0.20029121956631138,\n",
              " 0.2926749299896048,\n",
              " 0.11973274275624946,\n",
              " 0.10911076161457438,\n",
              " 0.12181606201577189,\n",
              " 0.13726336872773592,\n",
              " 0.15913546174335597,\n",
              " 0.1509699167240749,\n",
              " 0.12745527707471171,\n",
              " 0.1637146317230107,\n",
              " 0.148676539554202,\n",
              " 0.1347209536849671,\n",
              " 0.17902036345657676,\n",
              " 0.1785104765052344,\n",
              " 0.1528479177316697,\n",
              " 0.13415335426890065,\n",
              " 0.17222766597912975,\n",
              " 0.3183906521100104,\n",
              " 0.18139076194758474,\n",
              " 0.1970330188751116,\n",
              " 0.12480196369390009,\n",
              " 0.17103889628949498,\n",
              " 0.13339393680741457,\n",
              " 0.16536245317814266,\n",
              " 0.0843928102387045,\n",
              " 0.08121671960604969,\n",
              " 0.10014032930148067,\n",
              " 0.13257549639568003,\n",
              " 0.3397092885499948,\n",
              " 0.20336690666458154,\n",
              " 0.1697214720301463,\n",
              " 0.14444133805851647,\n",
              " 0.10413830737806036,\n",
              " 0.10281157334878781,\n",
              " 0.15111158501114264,\n",
              " 0.33855806708181996]"
            ]
          },
          "metadata": {
            "tags": []
          },
          "execution_count": 80
        }
      ]
    },
    {
      "cell_type": "code",
      "metadata": {
        "id": "GuUGah-6I3GY",
        "outputId": "811fc2ce-babe-43d2-c5fa-c637401f52e9",
        "colab": {
          "base_uri": "https://localhost:8080/",
          "height": 1000
        }
      },
      "source": [
        "### find next 30 days prediction\n",
        "\n",
        "from numpy import array\n",
        "\n",
        "lst_output=[]\n",
        "n_steps=100\n",
        "i=0\n",
        "while(i<30): ### predict for next 30 days\n",
        "    \n",
        "    if(len(temp_input)>100):### after running the else statement once, the size will be 100+1 = 101, we will move one step ahead to again predict yhat from these new 100 data points.\n",
        "        #print(temp_input)\n",
        "        x_input=np.array(temp_input[1:]) ##shifiting one position \n",
        "        print(\"{} day input {}\".format(i,x_input))\n",
        "        x_input=x_input.reshape(1,-1)  ##same step as in else loop explained\n",
        "        x_input = x_input.reshape((1, n_steps, 1))\n",
        "        #print(x_input)\n",
        "        yhat = model.predict(x_input, verbose=0)\n",
        "        print(\"{} day output {}\".format(i,yhat))\n",
        "        temp_input.extend(yhat[0].tolist())\n",
        "        temp_input=temp_input[1:]\n",
        "        #print(temp_input)\n",
        "        lst_output.extend(yhat.tolist())\n",
        "        i=i+1\n",
        "    else:\n",
        "        x_input = x_input.reshape((1, n_steps,1))### reshaping of new data is required\n",
        "        yhat = model.predict(x_input, verbose=0)### We are passing the above obtained 100 days data to predict next 30 days \n",
        "        print(yhat[0]) \n",
        "        temp_input.extend(yhat[0].tolist())\n",
        "        print(len(temp_input))\n",
        "        lst_output.extend(yhat.tolist()) ## aat dding to the yhinside the final output, also to the previous input, (upper 100 elements increased to 101)\n",
        "        i=i+1\n",
        "    \n",
        "\n",
        "print(lst_output)"
      ],
      "execution_count": null,
      "outputs": [
        {
          "output_type": "stream",
          "text": [
            "[0.15544523]\n",
            "101\n",
            "1 day input [0.1790524  0.55563648 0.2348412  0.14257776 0.1969574  0.09383514\n",
            " 0.04131284 0.05978436 0.27438294 0.40514285 0.32153442 0.08428598\n",
            " 0.20992054 0.62195133 0.11660584 0.15028895 0.17861727 0.36141993\n",
            " 0.31978298 0.60308639 0.44280059 0.38073317 0.53163094 0.49116704\n",
            " 0.44898444 0.30664158 0.15424121 0.53017223 0.34822994 0.22134042\n",
            " 0.15075192 0.23993004 0.19042816 0.22621514 0.16725323 0.14634288\n",
            " 0.26939615 0.23227975 0.06636309 0.22618028 0.14590918 0.40322486\n",
            " 0.71184518 0.13379013 0.12295846 0.14075646 0.30996388 0.17051448\n",
            " 0.4766048  0.42500673 0.27831604 0.14449    0.15696955 0.19474337\n",
            " 0.23426482 0.14893131 0.21095008 0.3621311  0.19875943 0.1795074\n",
            " 0.24976606 0.12920161 0.2112896  0.20029122 0.29267493 0.11973274\n",
            " 0.10911076 0.12181606 0.13726337 0.15913546 0.15096992 0.12745528\n",
            " 0.16371463 0.14867654 0.13472095 0.17902036 0.17851048 0.15284792\n",
            " 0.13415335 0.17222767 0.31839065 0.18139076 0.19703302 0.12480196\n",
            " 0.1710389  0.13339394 0.16536245 0.08439281 0.08121672 0.10014033\n",
            " 0.1325755  0.33970929 0.20336691 0.16972147 0.14444134 0.10413831\n",
            " 0.10281157 0.15111159 0.33855807 0.15544523]\n",
            "1 day output [[0.15850689]]\n",
            "2 day input [0.55563648 0.2348412  0.14257776 0.1969574  0.09383514 0.04131284\n",
            " 0.05978436 0.27438294 0.40514285 0.32153442 0.08428598 0.20992054\n",
            " 0.62195133 0.11660584 0.15028895 0.17861727 0.36141993 0.31978298\n",
            " 0.60308639 0.44280059 0.38073317 0.53163094 0.49116704 0.44898444\n",
            " 0.30664158 0.15424121 0.53017223 0.34822994 0.22134042 0.15075192\n",
            " 0.23993004 0.19042816 0.22621514 0.16725323 0.14634288 0.26939615\n",
            " 0.23227975 0.06636309 0.22618028 0.14590918 0.40322486 0.71184518\n",
            " 0.13379013 0.12295846 0.14075646 0.30996388 0.17051448 0.4766048\n",
            " 0.42500673 0.27831604 0.14449    0.15696955 0.19474337 0.23426482\n",
            " 0.14893131 0.21095008 0.3621311  0.19875943 0.1795074  0.24976606\n",
            " 0.12920161 0.2112896  0.20029122 0.29267493 0.11973274 0.10911076\n",
            " 0.12181606 0.13726337 0.15913546 0.15096992 0.12745528 0.16371463\n",
            " 0.14867654 0.13472095 0.17902036 0.17851048 0.15284792 0.13415335\n",
            " 0.17222767 0.31839065 0.18139076 0.19703302 0.12480196 0.1710389\n",
            " 0.13339394 0.16536245 0.08439281 0.08121672 0.10014033 0.1325755\n",
            " 0.33970929 0.20336691 0.16972147 0.14444134 0.10413831 0.10281157\n",
            " 0.15111159 0.33855807 0.15544523 0.15850689]\n",
            "2 day output [[0.16100705]]\n",
            "3 day input [0.2348412  0.14257776 0.1969574  0.09383514 0.04131284 0.05978436\n",
            " 0.27438294 0.40514285 0.32153442 0.08428598 0.20992054 0.62195133\n",
            " 0.11660584 0.15028895 0.17861727 0.36141993 0.31978298 0.60308639\n",
            " 0.44280059 0.38073317 0.53163094 0.49116704 0.44898444 0.30664158\n",
            " 0.15424121 0.53017223 0.34822994 0.22134042 0.15075192 0.23993004\n",
            " 0.19042816 0.22621514 0.16725323 0.14634288 0.26939615 0.23227975\n",
            " 0.06636309 0.22618028 0.14590918 0.40322486 0.71184518 0.13379013\n",
            " 0.12295846 0.14075646 0.30996388 0.17051448 0.4766048  0.42500673\n",
            " 0.27831604 0.14449    0.15696955 0.19474337 0.23426482 0.14893131\n",
            " 0.21095008 0.3621311  0.19875943 0.1795074  0.24976606 0.12920161\n",
            " 0.2112896  0.20029122 0.29267493 0.11973274 0.10911076 0.12181606\n",
            " 0.13726337 0.15913546 0.15096992 0.12745528 0.16371463 0.14867654\n",
            " 0.13472095 0.17902036 0.17851048 0.15284792 0.13415335 0.17222767\n",
            " 0.31839065 0.18139076 0.19703302 0.12480196 0.1710389  0.13339394\n",
            " 0.16536245 0.08439281 0.08121672 0.10014033 0.1325755  0.33970929\n",
            " 0.20336691 0.16972147 0.14444134 0.10413831 0.10281157 0.15111159\n",
            " 0.33855807 0.15544523 0.15850689 0.16100705]\n",
            "3 day output [[0.16279027]]\n",
            "4 day input [0.14257776 0.1969574  0.09383514 0.04131284 0.05978436 0.27438294\n",
            " 0.40514285 0.32153442 0.08428598 0.20992054 0.62195133 0.11660584\n",
            " 0.15028895 0.17861727 0.36141993 0.31978298 0.60308639 0.44280059\n",
            " 0.38073317 0.53163094 0.49116704 0.44898444 0.30664158 0.15424121\n",
            " 0.53017223 0.34822994 0.22134042 0.15075192 0.23993004 0.19042816\n",
            " 0.22621514 0.16725323 0.14634288 0.26939615 0.23227975 0.06636309\n",
            " 0.22618028 0.14590918 0.40322486 0.71184518 0.13379013 0.12295846\n",
            " 0.14075646 0.30996388 0.17051448 0.4766048  0.42500673 0.27831604\n",
            " 0.14449    0.15696955 0.19474337 0.23426482 0.14893131 0.21095008\n",
            " 0.3621311  0.19875943 0.1795074  0.24976606 0.12920161 0.2112896\n",
            " 0.20029122 0.29267493 0.11973274 0.10911076 0.12181606 0.13726337\n",
            " 0.15913546 0.15096992 0.12745528 0.16371463 0.14867654 0.13472095\n",
            " 0.17902036 0.17851048 0.15284792 0.13415335 0.17222767 0.31839065\n",
            " 0.18139076 0.19703302 0.12480196 0.1710389  0.13339394 0.16536245\n",
            " 0.08439281 0.08121672 0.10014033 0.1325755  0.33970929 0.20336691\n",
            " 0.16972147 0.14444134 0.10413831 0.10281157 0.15111159 0.33855807\n",
            " 0.15544523 0.15850689 0.16100705 0.16279027]\n",
            "4 day output [[0.16402464]]\n",
            "5 day input [0.1969574  0.09383514 0.04131284 0.05978436 0.27438294 0.40514285\n",
            " 0.32153442 0.08428598 0.20992054 0.62195133 0.11660584 0.15028895\n",
            " 0.17861727 0.36141993 0.31978298 0.60308639 0.44280059 0.38073317\n",
            " 0.53163094 0.49116704 0.44898444 0.30664158 0.15424121 0.53017223\n",
            " 0.34822994 0.22134042 0.15075192 0.23993004 0.19042816 0.22621514\n",
            " 0.16725323 0.14634288 0.26939615 0.23227975 0.06636309 0.22618028\n",
            " 0.14590918 0.40322486 0.71184518 0.13379013 0.12295846 0.14075646\n",
            " 0.30996388 0.17051448 0.4766048  0.42500673 0.27831604 0.14449\n",
            " 0.15696955 0.19474337 0.23426482 0.14893131 0.21095008 0.3621311\n",
            " 0.19875943 0.1795074  0.24976606 0.12920161 0.2112896  0.20029122\n",
            " 0.29267493 0.11973274 0.10911076 0.12181606 0.13726337 0.15913546\n",
            " 0.15096992 0.12745528 0.16371463 0.14867654 0.13472095 0.17902036\n",
            " 0.17851048 0.15284792 0.13415335 0.17222767 0.31839065 0.18139076\n",
            " 0.19703302 0.12480196 0.1710389  0.13339394 0.16536245 0.08439281\n",
            " 0.08121672 0.10014033 0.1325755  0.33970929 0.20336691 0.16972147\n",
            " 0.14444134 0.10413831 0.10281157 0.15111159 0.33855807 0.15544523\n",
            " 0.15850689 0.16100705 0.16279027 0.16402464]\n",
            "5 day output [[0.16487658]]\n",
            "6 day input [0.09383514 0.04131284 0.05978436 0.27438294 0.40514285 0.32153442\n",
            " 0.08428598 0.20992054 0.62195133 0.11660584 0.15028895 0.17861727\n",
            " 0.36141993 0.31978298 0.60308639 0.44280059 0.38073317 0.53163094\n",
            " 0.49116704 0.44898444 0.30664158 0.15424121 0.53017223 0.34822994\n",
            " 0.22134042 0.15075192 0.23993004 0.19042816 0.22621514 0.16725323\n",
            " 0.14634288 0.26939615 0.23227975 0.06636309 0.22618028 0.14590918\n",
            " 0.40322486 0.71184518 0.13379013 0.12295846 0.14075646 0.30996388\n",
            " 0.17051448 0.4766048  0.42500673 0.27831604 0.14449    0.15696955\n",
            " 0.19474337 0.23426482 0.14893131 0.21095008 0.3621311  0.19875943\n",
            " 0.1795074  0.24976606 0.12920161 0.2112896  0.20029122 0.29267493\n",
            " 0.11973274 0.10911076 0.12181606 0.13726337 0.15913546 0.15096992\n",
            " 0.12745528 0.16371463 0.14867654 0.13472095 0.17902036 0.17851048\n",
            " 0.15284792 0.13415335 0.17222767 0.31839065 0.18139076 0.19703302\n",
            " 0.12480196 0.1710389  0.13339394 0.16536245 0.08439281 0.08121672\n",
            " 0.10014033 0.1325755  0.33970929 0.20336691 0.16972147 0.14444134\n",
            " 0.10413831 0.10281157 0.15111159 0.33855807 0.15544523 0.15850689\n",
            " 0.16100705 0.16279027 0.16402464 0.16487658]\n",
            "6 day output [[0.1654914]]\n",
            "7 day input [0.04131284 0.05978436 0.27438294 0.40514285 0.32153442 0.08428598\n",
            " 0.20992054 0.62195133 0.11660584 0.15028895 0.17861727 0.36141993\n",
            " 0.31978298 0.60308639 0.44280059 0.38073317 0.53163094 0.49116704\n",
            " 0.44898444 0.30664158 0.15424121 0.53017223 0.34822994 0.22134042\n",
            " 0.15075192 0.23993004 0.19042816 0.22621514 0.16725323 0.14634288\n",
            " 0.26939615 0.23227975 0.06636309 0.22618028 0.14590918 0.40322486\n",
            " 0.71184518 0.13379013 0.12295846 0.14075646 0.30996388 0.17051448\n",
            " 0.4766048  0.42500673 0.27831604 0.14449    0.15696955 0.19474337\n",
            " 0.23426482 0.14893131 0.21095008 0.3621311  0.19875943 0.1795074\n",
            " 0.24976606 0.12920161 0.2112896  0.20029122 0.29267493 0.11973274\n",
            " 0.10911076 0.12181606 0.13726337 0.15913546 0.15096992 0.12745528\n",
            " 0.16371463 0.14867654 0.13472095 0.17902036 0.17851048 0.15284792\n",
            " 0.13415335 0.17222767 0.31839065 0.18139076 0.19703302 0.12480196\n",
            " 0.1710389  0.13339394 0.16536245 0.08439281 0.08121672 0.10014033\n",
            " 0.1325755  0.33970929 0.20336691 0.16972147 0.14444134 0.10413831\n",
            " 0.10281157 0.15111159 0.33855807 0.15544523 0.15850689 0.16100705\n",
            " 0.16279027 0.16402464 0.16487658 0.1654914 ]\n",
            "7 day output [[0.16598539]]\n",
            "8 day input [0.05978436 0.27438294 0.40514285 0.32153442 0.08428598 0.20992054\n",
            " 0.62195133 0.11660584 0.15028895 0.17861727 0.36141993 0.31978298\n",
            " 0.60308639 0.44280059 0.38073317 0.53163094 0.49116704 0.44898444\n",
            " 0.30664158 0.15424121 0.53017223 0.34822994 0.22134042 0.15075192\n",
            " 0.23993004 0.19042816 0.22621514 0.16725323 0.14634288 0.26939615\n",
            " 0.23227975 0.06636309 0.22618028 0.14590918 0.40322486 0.71184518\n",
            " 0.13379013 0.12295846 0.14075646 0.30996388 0.17051448 0.4766048\n",
            " 0.42500673 0.27831604 0.14449    0.15696955 0.19474337 0.23426482\n",
            " 0.14893131 0.21095008 0.3621311  0.19875943 0.1795074  0.24976606\n",
            " 0.12920161 0.2112896  0.20029122 0.29267493 0.11973274 0.10911076\n",
            " 0.12181606 0.13726337 0.15913546 0.15096992 0.12745528 0.16371463\n",
            " 0.14867654 0.13472095 0.17902036 0.17851048 0.15284792 0.13415335\n",
            " 0.17222767 0.31839065 0.18139076 0.19703302 0.12480196 0.1710389\n",
            " 0.13339394 0.16536245 0.08439281 0.08121672 0.10014033 0.1325755\n",
            " 0.33970929 0.20336691 0.16972147 0.14444134 0.10413831 0.10281157\n",
            " 0.15111159 0.33855807 0.15544523 0.15850689 0.16100705 0.16279027\n",
            " 0.16402464 0.16487658 0.1654914  0.16598539]\n",
            "8 day output [[0.16642314]]\n",
            "9 day input [0.27438294 0.40514285 0.32153442 0.08428598 0.20992054 0.62195133\n",
            " 0.11660584 0.15028895 0.17861727 0.36141993 0.31978298 0.60308639\n",
            " 0.44280059 0.38073317 0.53163094 0.49116704 0.44898444 0.30664158\n",
            " 0.15424121 0.53017223 0.34822994 0.22134042 0.15075192 0.23993004\n",
            " 0.19042816 0.22621514 0.16725323 0.14634288 0.26939615 0.23227975\n",
            " 0.06636309 0.22618028 0.14590918 0.40322486 0.71184518 0.13379013\n",
            " 0.12295846 0.14075646 0.30996388 0.17051448 0.4766048  0.42500673\n",
            " 0.27831604 0.14449    0.15696955 0.19474337 0.23426482 0.14893131\n",
            " 0.21095008 0.3621311  0.19875943 0.1795074  0.24976606 0.12920161\n",
            " 0.2112896  0.20029122 0.29267493 0.11973274 0.10911076 0.12181606\n",
            " 0.13726337 0.15913546 0.15096992 0.12745528 0.16371463 0.14867654\n",
            " 0.13472095 0.17902036 0.17851048 0.15284792 0.13415335 0.17222767\n",
            " 0.31839065 0.18139076 0.19703302 0.12480196 0.1710389  0.13339394\n",
            " 0.16536245 0.08439281 0.08121672 0.10014033 0.1325755  0.33970929\n",
            " 0.20336691 0.16972147 0.14444134 0.10413831 0.10281157 0.15111159\n",
            " 0.33855807 0.15544523 0.15850689 0.16100705 0.16279027 0.16402464\n",
            " 0.16487658 0.1654914  0.16598539 0.16642314]\n",
            "9 day output [[0.16683897]]\n",
            "10 day input [0.40514285 0.32153442 0.08428598 0.20992054 0.62195133 0.11660584\n",
            " 0.15028895 0.17861727 0.36141993 0.31978298 0.60308639 0.44280059\n",
            " 0.38073317 0.53163094 0.49116704 0.44898444 0.30664158 0.15424121\n",
            " 0.53017223 0.34822994 0.22134042 0.15075192 0.23993004 0.19042816\n",
            " 0.22621514 0.16725323 0.14634288 0.26939615 0.23227975 0.06636309\n",
            " 0.22618028 0.14590918 0.40322486 0.71184518 0.13379013 0.12295846\n",
            " 0.14075646 0.30996388 0.17051448 0.4766048  0.42500673 0.27831604\n",
            " 0.14449    0.15696955 0.19474337 0.23426482 0.14893131 0.21095008\n",
            " 0.3621311  0.19875943 0.1795074  0.24976606 0.12920161 0.2112896\n",
            " 0.20029122 0.29267493 0.11973274 0.10911076 0.12181606 0.13726337\n",
            " 0.15913546 0.15096992 0.12745528 0.16371463 0.14867654 0.13472095\n",
            " 0.17902036 0.17851048 0.15284792 0.13415335 0.17222767 0.31839065\n",
            " 0.18139076 0.19703302 0.12480196 0.1710389  0.13339394 0.16536245\n",
            " 0.08439281 0.08121672 0.10014033 0.1325755  0.33970929 0.20336691\n",
            " 0.16972147 0.14444134 0.10413831 0.10281157 0.15111159 0.33855807\n",
            " 0.15544523 0.15850689 0.16100705 0.16279027 0.16402464 0.16487658\n",
            " 0.1654914  0.16598539 0.16642314 0.16683897]\n",
            "10 day output [[0.16724214]]\n",
            "11 day input [0.32153442 0.08428598 0.20992054 0.62195133 0.11660584 0.15028895\n",
            " 0.17861727 0.36141993 0.31978298 0.60308639 0.44280059 0.38073317\n",
            " 0.53163094 0.49116704 0.44898444 0.30664158 0.15424121 0.53017223\n",
            " 0.34822994 0.22134042 0.15075192 0.23993004 0.19042816 0.22621514\n",
            " 0.16725323 0.14634288 0.26939615 0.23227975 0.06636309 0.22618028\n",
            " 0.14590918 0.40322486 0.71184518 0.13379013 0.12295846 0.14075646\n",
            " 0.30996388 0.17051448 0.4766048  0.42500673 0.27831604 0.14449\n",
            " 0.15696955 0.19474337 0.23426482 0.14893131 0.21095008 0.3621311\n",
            " 0.19875943 0.1795074  0.24976606 0.12920161 0.2112896  0.20029122\n",
            " 0.29267493 0.11973274 0.10911076 0.12181606 0.13726337 0.15913546\n",
            " 0.15096992 0.12745528 0.16371463 0.14867654 0.13472095 0.17902036\n",
            " 0.17851048 0.15284792 0.13415335 0.17222767 0.31839065 0.18139076\n",
            " 0.19703302 0.12480196 0.1710389  0.13339394 0.16536245 0.08439281\n",
            " 0.08121672 0.10014033 0.1325755  0.33970929 0.20336691 0.16972147\n",
            " 0.14444134 0.10413831 0.10281157 0.15111159 0.33855807 0.15544523\n",
            " 0.15850689 0.16100705 0.16279027 0.16402464 0.16487658 0.1654914\n",
            " 0.16598539 0.16642314 0.16683897 0.16724214]\n",
            "11 day output [[0.16764455]]\n",
            "12 day input [0.08428598 0.20992054 0.62195133 0.11660584 0.15028895 0.17861727\n",
            " 0.36141993 0.31978298 0.60308639 0.44280059 0.38073317 0.53163094\n",
            " 0.49116704 0.44898444 0.30664158 0.15424121 0.53017223 0.34822994\n",
            " 0.22134042 0.15075192 0.23993004 0.19042816 0.22621514 0.16725323\n",
            " 0.14634288 0.26939615 0.23227975 0.06636309 0.22618028 0.14590918\n",
            " 0.40322486 0.71184518 0.13379013 0.12295846 0.14075646 0.30996388\n",
            " 0.17051448 0.4766048  0.42500673 0.27831604 0.14449    0.15696955\n",
            " 0.19474337 0.23426482 0.14893131 0.21095008 0.3621311  0.19875943\n",
            " 0.1795074  0.24976606 0.12920161 0.2112896  0.20029122 0.29267493\n",
            " 0.11973274 0.10911076 0.12181606 0.13726337 0.15913546 0.15096992\n",
            " 0.12745528 0.16371463 0.14867654 0.13472095 0.17902036 0.17851048\n",
            " 0.15284792 0.13415335 0.17222767 0.31839065 0.18139076 0.19703302\n",
            " 0.12480196 0.1710389  0.13339394 0.16536245 0.08439281 0.08121672\n",
            " 0.10014033 0.1325755  0.33970929 0.20336691 0.16972147 0.14444134\n",
            " 0.10413831 0.10281157 0.15111159 0.33855807 0.15544523 0.15850689\n",
            " 0.16100705 0.16279027 0.16402464 0.16487658 0.1654914  0.16598539\n",
            " 0.16642314 0.16683897 0.16724214 0.16764455]\n",
            "12 day output [[0.16805735]]\n",
            "13 day input [0.20992054 0.62195133 0.11660584 0.15028895 0.17861727 0.36141993\n",
            " 0.31978298 0.60308639 0.44280059 0.38073317 0.53163094 0.49116704\n",
            " 0.44898444 0.30664158 0.15424121 0.53017223 0.34822994 0.22134042\n",
            " 0.15075192 0.23993004 0.19042816 0.22621514 0.16725323 0.14634288\n",
            " 0.26939615 0.23227975 0.06636309 0.22618028 0.14590918 0.40322486\n",
            " 0.71184518 0.13379013 0.12295846 0.14075646 0.30996388 0.17051448\n",
            " 0.4766048  0.42500673 0.27831604 0.14449    0.15696955 0.19474337\n",
            " 0.23426482 0.14893131 0.21095008 0.3621311  0.19875943 0.1795074\n",
            " 0.24976606 0.12920161 0.2112896  0.20029122 0.29267493 0.11973274\n",
            " 0.10911076 0.12181606 0.13726337 0.15913546 0.15096992 0.12745528\n",
            " 0.16371463 0.14867654 0.13472095 0.17902036 0.17851048 0.15284792\n",
            " 0.13415335 0.17222767 0.31839065 0.18139076 0.19703302 0.12480196\n",
            " 0.1710389  0.13339394 0.16536245 0.08439281 0.08121672 0.10014033\n",
            " 0.1325755  0.33970929 0.20336691 0.16972147 0.14444134 0.10413831\n",
            " 0.10281157 0.15111159 0.33855807 0.15544523 0.15850689 0.16100705\n",
            " 0.16279027 0.16402464 0.16487658 0.1654914  0.16598539 0.16642314\n",
            " 0.16683897 0.16724214 0.16764455 0.16805735]\n",
            "13 day output [[0.16848487]]\n",
            "14 day input [0.62195133 0.11660584 0.15028895 0.17861727 0.36141993 0.31978298\n",
            " 0.60308639 0.44280059 0.38073317 0.53163094 0.49116704 0.44898444\n",
            " 0.30664158 0.15424121 0.53017223 0.34822994 0.22134042 0.15075192\n",
            " 0.23993004 0.19042816 0.22621514 0.16725323 0.14634288 0.26939615\n",
            " 0.23227975 0.06636309 0.22618028 0.14590918 0.40322486 0.71184518\n",
            " 0.13379013 0.12295846 0.14075646 0.30996388 0.17051448 0.4766048\n",
            " 0.42500673 0.27831604 0.14449    0.15696955 0.19474337 0.23426482\n",
            " 0.14893131 0.21095008 0.3621311  0.19875943 0.1795074  0.24976606\n",
            " 0.12920161 0.2112896  0.20029122 0.29267493 0.11973274 0.10911076\n",
            " 0.12181606 0.13726337 0.15913546 0.15096992 0.12745528 0.16371463\n",
            " 0.14867654 0.13472095 0.17902036 0.17851048 0.15284792 0.13415335\n",
            " 0.17222767 0.31839065 0.18139076 0.19703302 0.12480196 0.1710389\n",
            " 0.13339394 0.16536245 0.08439281 0.08121672 0.10014033 0.1325755\n",
            " 0.33970929 0.20336691 0.16972147 0.14444134 0.10413831 0.10281157\n",
            " 0.15111159 0.33855807 0.15544523 0.15850689 0.16100705 0.16279027\n",
            " 0.16402464 0.16487658 0.1654914  0.16598539 0.16642314 0.16683897\n",
            " 0.16724214 0.16764455 0.16805735 0.16848487]\n",
            "14 day output [[0.16890362]]\n",
            "15 day input [0.11660584 0.15028895 0.17861727 0.36141993 0.31978298 0.60308639\n",
            " 0.44280059 0.38073317 0.53163094 0.49116704 0.44898444 0.30664158\n",
            " 0.15424121 0.53017223 0.34822994 0.22134042 0.15075192 0.23993004\n",
            " 0.19042816 0.22621514 0.16725323 0.14634288 0.26939615 0.23227975\n",
            " 0.06636309 0.22618028 0.14590918 0.40322486 0.71184518 0.13379013\n",
            " 0.12295846 0.14075646 0.30996388 0.17051448 0.4766048  0.42500673\n",
            " 0.27831604 0.14449    0.15696955 0.19474337 0.23426482 0.14893131\n",
            " 0.21095008 0.3621311  0.19875943 0.1795074  0.24976606 0.12920161\n",
            " 0.2112896  0.20029122 0.29267493 0.11973274 0.10911076 0.12181606\n",
            " 0.13726337 0.15913546 0.15096992 0.12745528 0.16371463 0.14867654\n",
            " 0.13472095 0.17902036 0.17851048 0.15284792 0.13415335 0.17222767\n",
            " 0.31839065 0.18139076 0.19703302 0.12480196 0.1710389  0.13339394\n",
            " 0.16536245 0.08439281 0.08121672 0.10014033 0.1325755  0.33970929\n",
            " 0.20336691 0.16972147 0.14444134 0.10413831 0.10281157 0.15111159\n",
            " 0.33855807 0.15544523 0.15850689 0.16100705 0.16279027 0.16402464\n",
            " 0.16487658 0.1654914  0.16598539 0.16642314 0.16683897 0.16724214\n",
            " 0.16764455 0.16805735 0.16848487 0.16890362]\n",
            "15 day output [[0.16929573]]\n",
            "16 day input [0.15028895 0.17861727 0.36141993 0.31978298 0.60308639 0.44280059\n",
            " 0.38073317 0.53163094 0.49116704 0.44898444 0.30664158 0.15424121\n",
            " 0.53017223 0.34822994 0.22134042 0.15075192 0.23993004 0.19042816\n",
            " 0.22621514 0.16725323 0.14634288 0.26939615 0.23227975 0.06636309\n",
            " 0.22618028 0.14590918 0.40322486 0.71184518 0.13379013 0.12295846\n",
            " 0.14075646 0.30996388 0.17051448 0.4766048  0.42500673 0.27831604\n",
            " 0.14449    0.15696955 0.19474337 0.23426482 0.14893131 0.21095008\n",
            " 0.3621311  0.19875943 0.1795074  0.24976606 0.12920161 0.2112896\n",
            " 0.20029122 0.29267493 0.11973274 0.10911076 0.12181606 0.13726337\n",
            " 0.15913546 0.15096992 0.12745528 0.16371463 0.14867654 0.13472095\n",
            " 0.17902036 0.17851048 0.15284792 0.13415335 0.17222767 0.31839065\n",
            " 0.18139076 0.19703302 0.12480196 0.1710389  0.13339394 0.16536245\n",
            " 0.08439281 0.08121672 0.10014033 0.1325755  0.33970929 0.20336691\n",
            " 0.16972147 0.14444134 0.10413831 0.10281157 0.15111159 0.33855807\n",
            " 0.15544523 0.15850689 0.16100705 0.16279027 0.16402464 0.16487658\n",
            " 0.1654914  0.16598539 0.16642314 0.16683897 0.16724214 0.16764455\n",
            " 0.16805735 0.16848487 0.16890362 0.16929573]\n",
            "16 day output [[0.16970699]]\n",
            "17 day input [0.17861727 0.36141993 0.31978298 0.60308639 0.44280059 0.38073317\n",
            " 0.53163094 0.49116704 0.44898444 0.30664158 0.15424121 0.53017223\n",
            " 0.34822994 0.22134042 0.15075192 0.23993004 0.19042816 0.22621514\n",
            " 0.16725323 0.14634288 0.26939615 0.23227975 0.06636309 0.22618028\n",
            " 0.14590918 0.40322486 0.71184518 0.13379013 0.12295846 0.14075646\n",
            " 0.30996388 0.17051448 0.4766048  0.42500673 0.27831604 0.14449\n",
            " 0.15696955 0.19474337 0.23426482 0.14893131 0.21095008 0.3621311\n",
            " 0.19875943 0.1795074  0.24976606 0.12920161 0.2112896  0.20029122\n",
            " 0.29267493 0.11973274 0.10911076 0.12181606 0.13726337 0.15913546\n",
            " 0.15096992 0.12745528 0.16371463 0.14867654 0.13472095 0.17902036\n",
            " 0.17851048 0.15284792 0.13415335 0.17222767 0.31839065 0.18139076\n",
            " 0.19703302 0.12480196 0.1710389  0.13339394 0.16536245 0.08439281\n",
            " 0.08121672 0.10014033 0.1325755  0.33970929 0.20336691 0.16972147\n",
            " 0.14444134 0.10413831 0.10281157 0.15111159 0.33855807 0.15544523\n",
            " 0.15850689 0.16100705 0.16279027 0.16402464 0.16487658 0.1654914\n",
            " 0.16598539 0.16642314 0.16683897 0.16724214 0.16764455 0.16805735\n",
            " 0.16848487 0.16890362 0.16929573 0.16970699]\n",
            "17 day output [[0.1701037]]\n",
            "18 day input [0.36141993 0.31978298 0.60308639 0.44280059 0.38073317 0.53163094\n",
            " 0.49116704 0.44898444 0.30664158 0.15424121 0.53017223 0.34822994\n",
            " 0.22134042 0.15075192 0.23993004 0.19042816 0.22621514 0.16725323\n",
            " 0.14634288 0.26939615 0.23227975 0.06636309 0.22618028 0.14590918\n",
            " 0.40322486 0.71184518 0.13379013 0.12295846 0.14075646 0.30996388\n",
            " 0.17051448 0.4766048  0.42500673 0.27831604 0.14449    0.15696955\n",
            " 0.19474337 0.23426482 0.14893131 0.21095008 0.3621311  0.19875943\n",
            " 0.1795074  0.24976606 0.12920161 0.2112896  0.20029122 0.29267493\n",
            " 0.11973274 0.10911076 0.12181606 0.13726337 0.15913546 0.15096992\n",
            " 0.12745528 0.16371463 0.14867654 0.13472095 0.17902036 0.17851048\n",
            " 0.15284792 0.13415335 0.17222767 0.31839065 0.18139076 0.19703302\n",
            " 0.12480196 0.1710389  0.13339394 0.16536245 0.08439281 0.08121672\n",
            " 0.10014033 0.1325755  0.33970929 0.20336691 0.16972147 0.14444134\n",
            " 0.10413831 0.10281157 0.15111159 0.33855807 0.15544523 0.15850689\n",
            " 0.16100705 0.16279027 0.16402464 0.16487658 0.1654914  0.16598539\n",
            " 0.16642314 0.16683897 0.16724214 0.16764455 0.16805735 0.16848487\n",
            " 0.16890362 0.16929573 0.16970699 0.1701037 ]\n",
            "18 day output [[0.17048444]]\n",
            "19 day input [0.31978298 0.60308639 0.44280059 0.38073317 0.53163094 0.49116704\n",
            " 0.44898444 0.30664158 0.15424121 0.53017223 0.34822994 0.22134042\n",
            " 0.15075192 0.23993004 0.19042816 0.22621514 0.16725323 0.14634288\n",
            " 0.26939615 0.23227975 0.06636309 0.22618028 0.14590918 0.40322486\n",
            " 0.71184518 0.13379013 0.12295846 0.14075646 0.30996388 0.17051448\n",
            " 0.4766048  0.42500673 0.27831604 0.14449    0.15696955 0.19474337\n",
            " 0.23426482 0.14893131 0.21095008 0.3621311  0.19875943 0.1795074\n",
            " 0.24976606 0.12920161 0.2112896  0.20029122 0.29267493 0.11973274\n",
            " 0.10911076 0.12181606 0.13726337 0.15913546 0.15096992 0.12745528\n",
            " 0.16371463 0.14867654 0.13472095 0.17902036 0.17851048 0.15284792\n",
            " 0.13415335 0.17222767 0.31839065 0.18139076 0.19703302 0.12480196\n",
            " 0.1710389  0.13339394 0.16536245 0.08439281 0.08121672 0.10014033\n",
            " 0.1325755  0.33970929 0.20336691 0.16972147 0.14444134 0.10413831\n",
            " 0.10281157 0.15111159 0.33855807 0.15544523 0.15850689 0.16100705\n",
            " 0.16279027 0.16402464 0.16487658 0.1654914  0.16598539 0.16642314\n",
            " 0.16683897 0.16724214 0.16764455 0.16805735 0.16848487 0.16890362\n",
            " 0.16929573 0.16970699 0.1701037  0.17048444]\n",
            "19 day output [[0.17084014]]\n",
            "20 day input [0.60308639 0.44280059 0.38073317 0.53163094 0.49116704 0.44898444\n",
            " 0.30664158 0.15424121 0.53017223 0.34822994 0.22134042 0.15075192\n",
            " 0.23993004 0.19042816 0.22621514 0.16725323 0.14634288 0.26939615\n",
            " 0.23227975 0.06636309 0.22618028 0.14590918 0.40322486 0.71184518\n",
            " 0.13379013 0.12295846 0.14075646 0.30996388 0.17051448 0.4766048\n",
            " 0.42500673 0.27831604 0.14449    0.15696955 0.19474337 0.23426482\n",
            " 0.14893131 0.21095008 0.3621311  0.19875943 0.1795074  0.24976606\n",
            " 0.12920161 0.2112896  0.20029122 0.29267493 0.11973274 0.10911076\n",
            " 0.12181606 0.13726337 0.15913546 0.15096992 0.12745528 0.16371463\n",
            " 0.14867654 0.13472095 0.17902036 0.17851048 0.15284792 0.13415335\n",
            " 0.17222767 0.31839065 0.18139076 0.19703302 0.12480196 0.1710389\n",
            " 0.13339394 0.16536245 0.08439281 0.08121672 0.10014033 0.1325755\n",
            " 0.33970929 0.20336691 0.16972147 0.14444134 0.10413831 0.10281157\n",
            " 0.15111159 0.33855807 0.15544523 0.15850689 0.16100705 0.16279027\n",
            " 0.16402464 0.16487658 0.1654914  0.16598539 0.16642314 0.16683897\n",
            " 0.16724214 0.16764455 0.16805735 0.16848487 0.16890362 0.16929573\n",
            " 0.16970699 0.1701037  0.17048444 0.17084014]\n",
            "20 day output [[0.17118281]]\n",
            "21 day input [0.44280059 0.38073317 0.53163094 0.49116704 0.44898444 0.30664158\n",
            " 0.15424121 0.53017223 0.34822994 0.22134042 0.15075192 0.23993004\n",
            " 0.19042816 0.22621514 0.16725323 0.14634288 0.26939615 0.23227975\n",
            " 0.06636309 0.22618028 0.14590918 0.40322486 0.71184518 0.13379013\n",
            " 0.12295846 0.14075646 0.30996388 0.17051448 0.4766048  0.42500673\n",
            " 0.27831604 0.14449    0.15696955 0.19474337 0.23426482 0.14893131\n",
            " 0.21095008 0.3621311  0.19875943 0.1795074  0.24976606 0.12920161\n",
            " 0.2112896  0.20029122 0.29267493 0.11973274 0.10911076 0.12181606\n",
            " 0.13726337 0.15913546 0.15096992 0.12745528 0.16371463 0.14867654\n",
            " 0.13472095 0.17902036 0.17851048 0.15284792 0.13415335 0.17222767\n",
            " 0.31839065 0.18139076 0.19703302 0.12480196 0.1710389  0.13339394\n",
            " 0.16536245 0.08439281 0.08121672 0.10014033 0.1325755  0.33970929\n",
            " 0.20336691 0.16972147 0.14444134 0.10413831 0.10281157 0.15111159\n",
            " 0.33855807 0.15544523 0.15850689 0.16100705 0.16279027 0.16402464\n",
            " 0.16487658 0.1654914  0.16598539 0.16642314 0.16683897 0.16724214\n",
            " 0.16764455 0.16805735 0.16848487 0.16890362 0.16929573 0.16970699\n",
            " 0.1701037  0.17048444 0.17084014 0.17118281]\n",
            "21 day output [[0.17149393]]\n",
            "22 day input [0.38073317 0.53163094 0.49116704 0.44898444 0.30664158 0.15424121\n",
            " 0.53017223 0.34822994 0.22134042 0.15075192 0.23993004 0.19042816\n",
            " 0.22621514 0.16725323 0.14634288 0.26939615 0.23227975 0.06636309\n",
            " 0.22618028 0.14590918 0.40322486 0.71184518 0.13379013 0.12295846\n",
            " 0.14075646 0.30996388 0.17051448 0.4766048  0.42500673 0.27831604\n",
            " 0.14449    0.15696955 0.19474337 0.23426482 0.14893131 0.21095008\n",
            " 0.3621311  0.19875943 0.1795074  0.24976606 0.12920161 0.2112896\n",
            " 0.20029122 0.29267493 0.11973274 0.10911076 0.12181606 0.13726337\n",
            " 0.15913546 0.15096992 0.12745528 0.16371463 0.14867654 0.13472095\n",
            " 0.17902036 0.17851048 0.15284792 0.13415335 0.17222767 0.31839065\n",
            " 0.18139076 0.19703302 0.12480196 0.1710389  0.13339394 0.16536245\n",
            " 0.08439281 0.08121672 0.10014033 0.1325755  0.33970929 0.20336691\n",
            " 0.16972147 0.14444134 0.10413831 0.10281157 0.15111159 0.33855807\n",
            " 0.15544523 0.15850689 0.16100705 0.16279027 0.16402464 0.16487658\n",
            " 0.1654914  0.16598539 0.16642314 0.16683897 0.16724214 0.16764455\n",
            " 0.16805735 0.16848487 0.16890362 0.16929573 0.16970699 0.1701037\n",
            " 0.17048444 0.17084014 0.17118281 0.17149393]\n",
            "22 day output [[0.1717995]]\n",
            "23 day input [0.53163094 0.49116704 0.44898444 0.30664158 0.15424121 0.53017223\n",
            " 0.34822994 0.22134042 0.15075192 0.23993004 0.19042816 0.22621514\n",
            " 0.16725323 0.14634288 0.26939615 0.23227975 0.06636309 0.22618028\n",
            " 0.14590918 0.40322486 0.71184518 0.13379013 0.12295846 0.14075646\n",
            " 0.30996388 0.17051448 0.4766048  0.42500673 0.27831604 0.14449\n",
            " 0.15696955 0.19474337 0.23426482 0.14893131 0.21095008 0.3621311\n",
            " 0.19875943 0.1795074  0.24976606 0.12920161 0.2112896  0.20029122\n",
            " 0.29267493 0.11973274 0.10911076 0.12181606 0.13726337 0.15913546\n",
            " 0.15096992 0.12745528 0.16371463 0.14867654 0.13472095 0.17902036\n",
            " 0.17851048 0.15284792 0.13415335 0.17222767 0.31839065 0.18139076\n",
            " 0.19703302 0.12480196 0.1710389  0.13339394 0.16536245 0.08439281\n",
            " 0.08121672 0.10014033 0.1325755  0.33970929 0.20336691 0.16972147\n",
            " 0.14444134 0.10413831 0.10281157 0.15111159 0.33855807 0.15544523\n",
            " 0.15850689 0.16100705 0.16279027 0.16402464 0.16487658 0.1654914\n",
            " 0.16598539 0.16642314 0.16683897 0.16724214 0.16764455 0.16805735\n",
            " 0.16848487 0.16890362 0.16929573 0.16970699 0.1701037  0.17048444\n",
            " 0.17084014 0.17118281 0.17149393 0.1717995 ]\n",
            "23 day output [[0.17209338]]\n",
            "24 day input [0.49116704 0.44898444 0.30664158 0.15424121 0.53017223 0.34822994\n",
            " 0.22134042 0.15075192 0.23993004 0.19042816 0.22621514 0.16725323\n",
            " 0.14634288 0.26939615 0.23227975 0.06636309 0.22618028 0.14590918\n",
            " 0.40322486 0.71184518 0.13379013 0.12295846 0.14075646 0.30996388\n",
            " 0.17051448 0.4766048  0.42500673 0.27831604 0.14449    0.15696955\n",
            " 0.19474337 0.23426482 0.14893131 0.21095008 0.3621311  0.19875943\n",
            " 0.1795074  0.24976606 0.12920161 0.2112896  0.20029122 0.29267493\n",
            " 0.11973274 0.10911076 0.12181606 0.13726337 0.15913546 0.15096992\n",
            " 0.12745528 0.16371463 0.14867654 0.13472095 0.17902036 0.17851048\n",
            " 0.15284792 0.13415335 0.17222767 0.31839065 0.18139076 0.19703302\n",
            " 0.12480196 0.1710389  0.13339394 0.16536245 0.08439281 0.08121672\n",
            " 0.10014033 0.1325755  0.33970929 0.20336691 0.16972147 0.14444134\n",
            " 0.10413831 0.10281157 0.15111159 0.33855807 0.15544523 0.15850689\n",
            " 0.16100705 0.16279027 0.16402464 0.16487658 0.1654914  0.16598539\n",
            " 0.16642314 0.16683897 0.16724214 0.16764455 0.16805735 0.16848487\n",
            " 0.16890362 0.16929573 0.16970699 0.1701037  0.17048444 0.17084014\n",
            " 0.17118281 0.17149393 0.1717995  0.17209338]\n",
            "24 day output [[0.17236339]]\n",
            "25 day input [0.44898444 0.30664158 0.15424121 0.53017223 0.34822994 0.22134042\n",
            " 0.15075192 0.23993004 0.19042816 0.22621514 0.16725323 0.14634288\n",
            " 0.26939615 0.23227975 0.06636309 0.22618028 0.14590918 0.40322486\n",
            " 0.71184518 0.13379013 0.12295846 0.14075646 0.30996388 0.17051448\n",
            " 0.4766048  0.42500673 0.27831604 0.14449    0.15696955 0.19474337\n",
            " 0.23426482 0.14893131 0.21095008 0.3621311  0.19875943 0.1795074\n",
            " 0.24976606 0.12920161 0.2112896  0.20029122 0.29267493 0.11973274\n",
            " 0.10911076 0.12181606 0.13726337 0.15913546 0.15096992 0.12745528\n",
            " 0.16371463 0.14867654 0.13472095 0.17902036 0.17851048 0.15284792\n",
            " 0.13415335 0.17222767 0.31839065 0.18139076 0.19703302 0.12480196\n",
            " 0.1710389  0.13339394 0.16536245 0.08439281 0.08121672 0.10014033\n",
            " 0.1325755  0.33970929 0.20336691 0.16972147 0.14444134 0.10413831\n",
            " 0.10281157 0.15111159 0.33855807 0.15544523 0.15850689 0.16100705\n",
            " 0.16279027 0.16402464 0.16487658 0.1654914  0.16598539 0.16642314\n",
            " 0.16683897 0.16724214 0.16764455 0.16805735 0.16848487 0.16890362\n",
            " 0.16929573 0.16970699 0.1701037  0.17048444 0.17084014 0.17118281\n",
            " 0.17149393 0.1717995  0.17209338 0.17236339]\n",
            "25 day output [[0.17262225]]\n",
            "26 day input [0.30664158 0.15424121 0.53017223 0.34822994 0.22134042 0.15075192\n",
            " 0.23993004 0.19042816 0.22621514 0.16725323 0.14634288 0.26939615\n",
            " 0.23227975 0.06636309 0.22618028 0.14590918 0.40322486 0.71184518\n",
            " 0.13379013 0.12295846 0.14075646 0.30996388 0.17051448 0.4766048\n",
            " 0.42500673 0.27831604 0.14449    0.15696955 0.19474337 0.23426482\n",
            " 0.14893131 0.21095008 0.3621311  0.19875943 0.1795074  0.24976606\n",
            " 0.12920161 0.2112896  0.20029122 0.29267493 0.11973274 0.10911076\n",
            " 0.12181606 0.13726337 0.15913546 0.15096992 0.12745528 0.16371463\n",
            " 0.14867654 0.13472095 0.17902036 0.17851048 0.15284792 0.13415335\n",
            " 0.17222767 0.31839065 0.18139076 0.19703302 0.12480196 0.1710389\n",
            " 0.13339394 0.16536245 0.08439281 0.08121672 0.10014033 0.1325755\n",
            " 0.33970929 0.20336691 0.16972147 0.14444134 0.10413831 0.10281157\n",
            " 0.15111159 0.33855807 0.15544523 0.15850689 0.16100705 0.16279027\n",
            " 0.16402464 0.16487658 0.1654914  0.16598539 0.16642314 0.16683897\n",
            " 0.16724214 0.16764455 0.16805735 0.16848487 0.16890362 0.16929573\n",
            " 0.16970699 0.1701037  0.17048444 0.17084014 0.17118281 0.17149393\n",
            " 0.1717995  0.17209338 0.17236339 0.17262225]\n",
            "26 day output [[0.17287078]]\n",
            "27 day input [0.15424121 0.53017223 0.34822994 0.22134042 0.15075192 0.23993004\n",
            " 0.19042816 0.22621514 0.16725323 0.14634288 0.26939615 0.23227975\n",
            " 0.06636309 0.22618028 0.14590918 0.40322486 0.71184518 0.13379013\n",
            " 0.12295846 0.14075646 0.30996388 0.17051448 0.4766048  0.42500673\n",
            " 0.27831604 0.14449    0.15696955 0.19474337 0.23426482 0.14893131\n",
            " 0.21095008 0.3621311  0.19875943 0.1795074  0.24976606 0.12920161\n",
            " 0.2112896  0.20029122 0.29267493 0.11973274 0.10911076 0.12181606\n",
            " 0.13726337 0.15913546 0.15096992 0.12745528 0.16371463 0.14867654\n",
            " 0.13472095 0.17902036 0.17851048 0.15284792 0.13415335 0.17222767\n",
            " 0.31839065 0.18139076 0.19703302 0.12480196 0.1710389  0.13339394\n",
            " 0.16536245 0.08439281 0.08121672 0.10014033 0.1325755  0.33970929\n",
            " 0.20336691 0.16972147 0.14444134 0.10413831 0.10281157 0.15111159\n",
            " 0.33855807 0.15544523 0.15850689 0.16100705 0.16279027 0.16402464\n",
            " 0.16487658 0.1654914  0.16598539 0.16642314 0.16683897 0.16724214\n",
            " 0.16764455 0.16805735 0.16848487 0.16890362 0.16929573 0.16970699\n",
            " 0.1701037  0.17048444 0.17084014 0.17118281 0.17149393 0.1717995\n",
            " 0.17209338 0.17236339 0.17262225 0.17287078]\n",
            "27 day output [[0.17311563]]\n",
            "28 day input [0.53017223 0.34822994 0.22134042 0.15075192 0.23993004 0.19042816\n",
            " 0.22621514 0.16725323 0.14634288 0.26939615 0.23227975 0.06636309\n",
            " 0.22618028 0.14590918 0.40322486 0.71184518 0.13379013 0.12295846\n",
            " 0.14075646 0.30996388 0.17051448 0.4766048  0.42500673 0.27831604\n",
            " 0.14449    0.15696955 0.19474337 0.23426482 0.14893131 0.21095008\n",
            " 0.3621311  0.19875943 0.1795074  0.24976606 0.12920161 0.2112896\n",
            " 0.20029122 0.29267493 0.11973274 0.10911076 0.12181606 0.13726337\n",
            " 0.15913546 0.15096992 0.12745528 0.16371463 0.14867654 0.13472095\n",
            " 0.17902036 0.17851048 0.15284792 0.13415335 0.17222767 0.31839065\n",
            " 0.18139076 0.19703302 0.12480196 0.1710389  0.13339394 0.16536245\n",
            " 0.08439281 0.08121672 0.10014033 0.1325755  0.33970929 0.20336691\n",
            " 0.16972147 0.14444134 0.10413831 0.10281157 0.15111159 0.33855807\n",
            " 0.15544523 0.15850689 0.16100705 0.16279027 0.16402464 0.16487658\n",
            " 0.1654914  0.16598539 0.16642314 0.16683897 0.16724214 0.16764455\n",
            " 0.16805735 0.16848487 0.16890362 0.16929573 0.16970699 0.1701037\n",
            " 0.17048444 0.17084014 0.17118281 0.17149393 0.1717995  0.17209338\n",
            " 0.17236339 0.17262225 0.17287078 0.17311563]\n",
            "28 day output [[0.17335735]]\n",
            "29 day input [0.34822994 0.22134042 0.15075192 0.23993004 0.19042816 0.22621514\n",
            " 0.16725323 0.14634288 0.26939615 0.23227975 0.06636309 0.22618028\n",
            " 0.14590918 0.40322486 0.71184518 0.13379013 0.12295846 0.14075646\n",
            " 0.30996388 0.17051448 0.4766048  0.42500673 0.27831604 0.14449\n",
            " 0.15696955 0.19474337 0.23426482 0.14893131 0.21095008 0.3621311\n",
            " 0.19875943 0.1795074  0.24976606 0.12920161 0.2112896  0.20029122\n",
            " 0.29267493 0.11973274 0.10911076 0.12181606 0.13726337 0.15913546\n",
            " 0.15096992 0.12745528 0.16371463 0.14867654 0.13472095 0.17902036\n",
            " 0.17851048 0.15284792 0.13415335 0.17222767 0.31839065 0.18139076\n",
            " 0.19703302 0.12480196 0.1710389  0.13339394 0.16536245 0.08439281\n",
            " 0.08121672 0.10014033 0.1325755  0.33970929 0.20336691 0.16972147\n",
            " 0.14444134 0.10413831 0.10281157 0.15111159 0.33855807 0.15544523\n",
            " 0.15850689 0.16100705 0.16279027 0.16402464 0.16487658 0.1654914\n",
            " 0.16598539 0.16642314 0.16683897 0.16724214 0.16764455 0.16805735\n",
            " 0.16848487 0.16890362 0.16929573 0.16970699 0.1701037  0.17048444\n",
            " 0.17084014 0.17118281 0.17149393 0.1717995  0.17209338 0.17236339\n",
            " 0.17262225 0.17287078 0.17311563 0.17335735]\n",
            "29 day output [[0.17356409]]\n",
            "[[0.15544523298740387], [0.15850688517093658], [0.16100704669952393], [0.16279026865959167], [0.16402463614940643], [0.16487658023834229], [0.16549140214920044], [0.16598539054393768], [0.16642314195632935], [0.16683897376060486], [0.1672421395778656], [0.16764454543590546], [0.16805735230445862], [0.1684848666191101], [0.16890361905097961], [0.16929572820663452], [0.16970698535442352], [0.17010369896888733], [0.17048443853855133], [0.17084014415740967], [0.1711828112602234], [0.17149393260478973], [0.17179949581623077], [0.17209337651729584], [0.17236338555812836], [0.17262224853038788], [0.17287078499794006], [0.17311562597751617], [0.17335735261440277], [0.1735640913248062]]\n"
          ],
          "name": "stdout"
        }
      ]
    },
    {
      "cell_type": "code",
      "metadata": {
        "id": "0jvG2ICyI3Gd"
      },
      "source": [
        "day_new=np.arange(1,101) ###100 days used to predict next 30 days, so 1 to 101\n",
        "day_pred=np.arange(101,131) ### since prediction is on next 30 days, 101+30 = 131"
      ],
      "execution_count": null,
      "outputs": []
    },
    {
      "cell_type": "code",
      "metadata": {
        "id": "h2x6qe9xI3Gk",
        "outputId": "cc488f17-2234-4318-9849-78cc99cc0d99",
        "colab": {
          "base_uri": "https://localhost:8080/",
          "height": 34
        }
      },
      "source": [
        "len(dfnew)\n",
        "\n"
      ],
      "execution_count": null,
      "outputs": [
        {
          "output_type": "execute_result",
          "data": {
            "text/plain": [
              "711"
            ]
          },
          "metadata": {
            "tags": []
          },
          "execution_count": 84
        }
      ]
    },
    {
      "cell_type": "code",
      "metadata": {
        "id": "IaMS_vbwI3Go"
      },
      "source": [
        "import matplotlib.pyplot as plt\n"
      ],
      "execution_count": null,
      "outputs": []
    },
    {
      "cell_type": "code",
      "metadata": {
        "id": "XMkPQKdPI3Gx",
        "outputId": "d94d553d-9bf7-4214-b14a-7c6a803f6b98",
        "colab": {
          "base_uri": "https://localhost:8080/",
          "height": 282
        }
      },
      "source": [
        "plt.plot(day_new,scaler.inverse_transform(dfnew[611:]))\n",
        "plt.plot(day_pred,scaler.inverse_transform(lst_output))"
      ],
      "execution_count": null,
      "outputs": [
        {
          "output_type": "execute_result",
          "data": {
            "text/plain": [
              "[<matplotlib.lines.Line2D at 0x7f7e48d08ba8>]"
            ]
          },
          "metadata": {
            "tags": []
          },
          "execution_count": 87
        },
        {
          "output_type": "display_data",
          "data": {
            "image/png": "[encoded data removed]",
            "text/plain": [
              "<Figure size 432x288 with 1 Axes>"
            ]
          },
          "metadata": {
            "tags": [],
            "needs_background": "light"
          }
        }
      ]
    },
    {
      "cell_type": "code",
      "metadata": {
        "id": "tdJNxzU9I3G9",
        "outputId": "7e90d3e6-1c53-4306-de4c-4439216513ab",
        "colab": {
          "base_uri": "https://localhost:8080/",
          "height": 282
        }
      },
      "source": [
        "plt.plot(dfnew[650:])"
      ],
      "execution_count": null,
      "outputs": [
        {
          "output_type": "execute_result",
          "data": {
            "text/plain": [
              "[<matplotlib.lines.Line2D at 0x7f7e486e8ef0>]"
            ]
          },
          "metadata": {
            "tags": []
          },
          "execution_count": 93
        },
        {
          "output_type": "display_data",
          "data": {
            "image/png": "[encoded data removed]",
            "text/plain": [
              "<Figure size 432x288 with 1 Axes>"
            ]
          },
          "metadata": {
            "tags": [],
            "needs_background": "light"
          }
        }
      ]
    },
    {
      "cell_type": "code",
      "metadata": {
        "id": "SjmiQax4I3HG",
        "outputId": "e9a87008-28be-46a6-9402-9a222e017f03",
        "colab": {
          "base_uri": "https://localhost:8080/",
          "height": 282
        }
      },
      "source": [
        "df3 = dfnew.tolist()\n",
        "df3.extend(lst_output)\n",
        "plt.plot(df3[600:])\n",
        "#plt.plot(lo1[700:],marker='.', color = 'green', markerfacecolor='green',)\n"
      ],
      "execution_count": null,
      "outputs": [
        {
          "output_type": "execute_result",
          "data": {
            "text/plain": [
              "[<matplotlib.lines.Line2D at 0x7f7e479db898>]"
            ]
          },
          "metadata": {
            "tags": []
          },
          "execution_count": 126
        },
        {
          "output_type": "display_data",
          "data": {
            "image/png": "[encoded data removed]",
            "text/plain": [
              "<Figure size 432x288 with 1 Axes>"
            ]
          },
          "metadata": {
            "tags": [],
            "needs_background": "light"
          }
        }
      ]
    },
    {
      "cell_type": "code",
      "metadata": {
        "id": "0wAI9fKmbhiv",
        "outputId": "65411eca-d629-4885-83cf-aa5302f59f4f",
        "colab": {
          "base_uri": "https://localhost:8080/",
          "height": 221
        }
      },
      "source": [
        "lo = pd.read_csv(\"/content/LSTMlockdown.csv\")\n",
        "lo.head()\n",
        "lo1 = lo.reset_index()['value']\n",
        "#dfnew.shape\n",
        "lo1"
      ],
      "execution_count": null,
      "outputs": [
        {
          "output_type": "execute_result",
          "data": {
            "text/plain": [
              "0           NaN\n",
              "1           NaN\n",
              "2           NaN\n",
              "3           NaN\n",
              "4           NaN\n",
              "         ...   \n",
              "747    0.000142\n",
              "748    0.000043\n",
              "749    0.000043\n",
              "750    0.000047\n",
              "751    0.000062\n",
              "Name: value, Length: 752, dtype: float64"
            ]
          },
          "metadata": {
            "tags": []
          },
          "execution_count": 102
        }
      ]
    },
    {
      "cell_type": "code",
      "metadata": {
        "id": "64BaAfVcdJmG",
        "outputId": "1d01cb96-42ca-46fa-87ef-9eed905958f7",
        "colab": {
          "base_uri": "https://localhost:8080/",
          "height": 282
        }
      },
      "source": [
        "plt.plot(lo1,marker='.', color = 'green', markerfacecolor='green',)"
      ],
      "execution_count": null,
      "outputs": [
        {
          "output_type": "execute_result",
          "data": {
            "text/plain": [
              "[<matplotlib.lines.Line2D at 0x7f7e481e5320>]"
            ]
          },
          "metadata": {
            "tags": []
          },
          "execution_count": 106
        },
        {
          "output_type": "display_data",
          "data": {
            "image/png": "[encoded data removed]",
            "text/plain": [
              "<Figure size 432x288 with 1 Axes>"
            ]
          },
          "metadata": {
            "tags": [],
            "needs_background": "light"
          }
        }
      ]
    },
    {
      "cell_type": "code",
      "metadata": {
        "id": "LMiPmvaHdZcW"
      },
      "source": [
        ""
      ],
      "execution_count": null,
      "outputs": []
    }
  ]
}